{
 "cells": [
  {
   "cell_type": "code",
   "execution_count": 81,
   "id": "99a20172",
   "metadata": {},
   "outputs": [],
   "source": [
    "import numpy as np\n",
    "import pandas as pd\n",
    "import seaborn as sns\n",
    "import matplotlib.pyplot as plt\n",
    "import plotly as px"
   ]
  },
  {
   "cell_type": "code",
   "execution_count": 95,
   "id": "dc7de7b9",
   "metadata": {},
   "outputs": [
    {
     "data": {
      "text/html": [
       "<div>\n",
       "<style scoped>\n",
       "    .dataframe tbody tr th:only-of-type {\n",
       "        vertical-align: middle;\n",
       "    }\n",
       "\n",
       "    .dataframe tbody tr th {\n",
       "        vertical-align: top;\n",
       "    }\n",
       "\n",
       "    .dataframe thead th {\n",
       "        text-align: right;\n",
       "    }\n",
       "</style>\n",
       "<table border=\"1\" class=\"dataframe\">\n",
       "  <thead>\n",
       "    <tr style=\"text-align: right;\">\n",
       "      <th></th>\n",
       "      <th>product_id</th>\n",
       "      <th>product_name</th>\n",
       "      <th>category</th>\n",
       "      <th>discounted_price</th>\n",
       "      <th>actual_price</th>\n",
       "      <th>discount_percentage</th>\n",
       "      <th>rating</th>\n",
       "      <th>rating_count</th>\n",
       "      <th>about_product</th>\n",
       "      <th>product_link</th>\n",
       "    </tr>\n",
       "  </thead>\n",
       "  <tbody>\n",
       "    <tr>\n",
       "      <th>0</th>\n",
       "      <td>B07JW9H4J1</td>\n",
       "      <td>Wayona Nylon Braided USB to Lightning Fast Cha...</td>\n",
       "      <td>Computers&amp;Accessories|Accessories&amp;Peripherals|...</td>\n",
       "      <td>₹399</td>\n",
       "      <td>₹1,099</td>\n",
       "      <td>64%</td>\n",
       "      <td>4.2</td>\n",
       "      <td>24,269</td>\n",
       "      <td>High Compatibility : Compatible With iPhone 12...</td>\n",
       "      <td>https://www.amazon.in/Wayona-Braided-WN3LG1-Sy...</td>\n",
       "    </tr>\n",
       "    <tr>\n",
       "      <th>1</th>\n",
       "      <td>B098NS6PVG</td>\n",
       "      <td>Ambrane Unbreakable 60W / 3A Fast Charging 1.5...</td>\n",
       "      <td>Computers&amp;Accessories|Accessories&amp;Peripherals|...</td>\n",
       "      <td>₹199</td>\n",
       "      <td>₹349</td>\n",
       "      <td>43%</td>\n",
       "      <td>4.0</td>\n",
       "      <td>43,994</td>\n",
       "      <td>Compatible with all Type C enabled devices, be...</td>\n",
       "      <td>https://www.amazon.in/Ambrane-Unbreakable-Char...</td>\n",
       "    </tr>\n",
       "    <tr>\n",
       "      <th>2</th>\n",
       "      <td>B096MSW6CT</td>\n",
       "      <td>Sounce Fast Phone Charging Cable &amp; Data Sync U...</td>\n",
       "      <td>Computers&amp;Accessories|Accessories&amp;Peripherals|...</td>\n",
       "      <td>₹199</td>\n",
       "      <td>₹1,899</td>\n",
       "      <td>90%</td>\n",
       "      <td>3.9</td>\n",
       "      <td>7,928</td>\n",
       "      <td>【 Fast Charger&amp; Data Sync】-With built-in safet...</td>\n",
       "      <td>https://www.amazon.in/Sounce-iPhone-Charging-C...</td>\n",
       "    </tr>\n",
       "    <tr>\n",
       "      <th>3</th>\n",
       "      <td>B08HDJ86NZ</td>\n",
       "      <td>boAt Deuce USB 300 2 in 1 Type-C &amp; Micro USB S...</td>\n",
       "      <td>Computers&amp;Accessories|Accessories&amp;Peripherals|...</td>\n",
       "      <td>₹329</td>\n",
       "      <td>₹699</td>\n",
       "      <td>53%</td>\n",
       "      <td>4.2</td>\n",
       "      <td>94,363</td>\n",
       "      <td>The boAt Deuce USB 300 2 in 1 cable is compati...</td>\n",
       "      <td>https://www.amazon.in/Deuce-300-Resistant-Tang...</td>\n",
       "    </tr>\n",
       "    <tr>\n",
       "      <th>4</th>\n",
       "      <td>B08CF3B7N1</td>\n",
       "      <td>Portronics Konnect L 1.2M Fast Charging 3A 8 P...</td>\n",
       "      <td>Computers&amp;Accessories|Accessories&amp;Peripherals|...</td>\n",
       "      <td>₹154</td>\n",
       "      <td>₹399</td>\n",
       "      <td>61%</td>\n",
       "      <td>4.2</td>\n",
       "      <td>16,905</td>\n",
       "      <td>[CHARGE &amp; SYNC FUNCTION]- This cable comes wit...</td>\n",
       "      <td>https://www.amazon.in/Portronics-Konnect-POR-1...</td>\n",
       "    </tr>\n",
       "  </tbody>\n",
       "</table>\n",
       "</div>"
      ],
      "text/plain": [
       "   product_id                                       product_name  \\\n",
       "0  B07JW9H4J1  Wayona Nylon Braided USB to Lightning Fast Cha...   \n",
       "1  B098NS6PVG  Ambrane Unbreakable 60W / 3A Fast Charging 1.5...   \n",
       "2  B096MSW6CT  Sounce Fast Phone Charging Cable & Data Sync U...   \n",
       "3  B08HDJ86NZ  boAt Deuce USB 300 2 in 1 Type-C & Micro USB S...   \n",
       "4  B08CF3B7N1  Portronics Konnect L 1.2M Fast Charging 3A 8 P...   \n",
       "\n",
       "                                            category discounted_price  \\\n",
       "0  Computers&Accessories|Accessories&Peripherals|...             ₹399   \n",
       "1  Computers&Accessories|Accessories&Peripherals|...             ₹199   \n",
       "2  Computers&Accessories|Accessories&Peripherals|...             ₹199   \n",
       "3  Computers&Accessories|Accessories&Peripherals|...             ₹329   \n",
       "4  Computers&Accessories|Accessories&Peripherals|...             ₹154   \n",
       "\n",
       "  actual_price discount_percentage rating rating_count  \\\n",
       "0       ₹1,099                 64%    4.2       24,269   \n",
       "1         ₹349                 43%    4.0       43,994   \n",
       "2       ₹1,899                 90%    3.9        7,928   \n",
       "3         ₹699                 53%    4.2       94,363   \n",
       "4         ₹399                 61%    4.2       16,905   \n",
       "\n",
       "                                       about_product  \\\n",
       "0  High Compatibility : Compatible With iPhone 12...   \n",
       "1  Compatible with all Type C enabled devices, be...   \n",
       "2  【 Fast Charger& Data Sync】-With built-in safet...   \n",
       "3  The boAt Deuce USB 300 2 in 1 cable is compati...   \n",
       "4  [CHARGE & SYNC FUNCTION]- This cable comes wit...   \n",
       "\n",
       "                                        product_link  \n",
       "0  https://www.amazon.in/Wayona-Braided-WN3LG1-Sy...  \n",
       "1  https://www.amazon.in/Ambrane-Unbreakable-Char...  \n",
       "2  https://www.amazon.in/Sounce-iPhone-Charging-C...  \n",
       "3  https://www.amazon.in/Deuce-300-Resistant-Tang...  \n",
       "4  https://www.amazon.in/Portronics-Konnect-POR-1...  "
      ]
     },
     "execution_count": 95,
     "metadata": {},
     "output_type": "execute_result"
    }
   ],
   "source": [
    "df = pd.read_csv('amazon_sales.csv')\n",
    "df.head()"
   ]
  },
  {
   "cell_type": "code",
   "execution_count": 96,
   "id": "8a58f3d2",
   "metadata": {},
   "outputs": [
    {
     "data": {
      "text/plain": [
       "(1465, 10)"
      ]
     },
     "execution_count": 96,
     "metadata": {},
     "output_type": "execute_result"
    }
   ],
   "source": [
    "df.shape"
   ]
  },
  {
   "cell_type": "code",
   "execution_count": 97,
   "id": "6eaf3eac",
   "metadata": {},
   "outputs": [
    {
     "name": "stdout",
     "output_type": "stream",
     "text": [
      "<class 'pandas.core.frame.DataFrame'>\n",
      "RangeIndex: 1465 entries, 0 to 1464\n",
      "Data columns (total 10 columns):\n",
      " #   Column               Non-Null Count  Dtype \n",
      "---  ------               --------------  ----- \n",
      " 0   product_id           1465 non-null   object\n",
      " 1   product_name         1465 non-null   object\n",
      " 2   category             1465 non-null   object\n",
      " 3   discounted_price     1465 non-null   object\n",
      " 4   actual_price         1465 non-null   object\n",
      " 5   discount_percentage  1465 non-null   object\n",
      " 6   rating               1465 non-null   object\n",
      " 7   rating_count         1463 non-null   object\n",
      " 8   about_product        1465 non-null   object\n",
      " 9   product_link         1465 non-null   object\n",
      "dtypes: object(10)\n",
      "memory usage: 114.6+ KB\n"
     ]
    }
   ],
   "source": [
    "df.info()"
   ]
  },
  {
   "cell_type": "code",
   "execution_count": 98,
   "id": "300aad7c",
   "metadata": {},
   "outputs": [
    {
     "data": {
      "text/plain": [
       "product_id             0\n",
       "product_name           0\n",
       "category               0\n",
       "discounted_price       0\n",
       "actual_price           0\n",
       "discount_percentage    0\n",
       "rating                 0\n",
       "rating_count           2\n",
       "about_product          0\n",
       "product_link           0\n",
       "dtype: int64"
      ]
     },
     "execution_count": 98,
     "metadata": {},
     "output_type": "execute_result"
    }
   ],
   "source": [
    "df.isnull().sum()"
   ]
  },
  {
   "cell_type": "code",
   "execution_count": 99,
   "id": "c30cd4ad",
   "metadata": {},
   "outputs": [],
   "source": [
    "df = df.dropna()"
   ]
  },
  {
   "cell_type": "code",
   "execution_count": 106,
   "id": "a612a331",
   "metadata": {},
   "outputs": [
    {
     "data": {
      "text/plain": [
       "0"
      ]
     },
     "execution_count": 106,
     "metadata": {},
     "output_type": "execute_result"
    }
   ],
   "source": [
    "df.duplicated().sum()"
   ]
  },
  {
   "cell_type": "code",
   "execution_count": 100,
   "id": "18fb0bf8",
   "metadata": {},
   "outputs": [
    {
     "data": {
      "text/plain": [
       "(1463, 10)"
      ]
     },
     "execution_count": 100,
     "metadata": {},
     "output_type": "execute_result"
    }
   ],
   "source": [
    "df.shape"
   ]
  },
  {
   "cell_type": "code",
   "execution_count": 101,
   "id": "6fa8c152",
   "metadata": {},
   "outputs": [
    {
     "data": {
      "text/html": [
       "<div>\n",
       "<style scoped>\n",
       "    .dataframe tbody tr th:only-of-type {\n",
       "        vertical-align: middle;\n",
       "    }\n",
       "\n",
       "    .dataframe tbody tr th {\n",
       "        vertical-align: top;\n",
       "    }\n",
       "\n",
       "    .dataframe thead th {\n",
       "        text-align: right;\n",
       "    }\n",
       "</style>\n",
       "<table border=\"1\" class=\"dataframe\">\n",
       "  <thead>\n",
       "    <tr style=\"text-align: right;\">\n",
       "      <th></th>\n",
       "      <th>product_id</th>\n",
       "      <th>product_name</th>\n",
       "      <th>category</th>\n",
       "      <th>discounted_price</th>\n",
       "      <th>actual_price</th>\n",
       "      <th>discount_percentage</th>\n",
       "      <th>rating</th>\n",
       "      <th>rating_count</th>\n",
       "      <th>about_product</th>\n",
       "      <th>product_link</th>\n",
       "    </tr>\n",
       "  </thead>\n",
       "  <tbody>\n",
       "    <tr>\n",
       "      <th>0</th>\n",
       "      <td>B07JW9H4J1</td>\n",
       "      <td>Wayona Nylon Braided USB to Lightning Fast Cha...</td>\n",
       "      <td>Computers&amp;Accessories|Accessories&amp;Peripherals|...</td>\n",
       "      <td>399.0</td>\n",
       "      <td>1099.0</td>\n",
       "      <td>64.0</td>\n",
       "      <td>4.2</td>\n",
       "      <td>24,269</td>\n",
       "      <td>High Compatibility : Compatible With iPhone 12...</td>\n",
       "      <td>https://www.amazon.in/Wayona-Braided-WN3LG1-Sy...</td>\n",
       "    </tr>\n",
       "    <tr>\n",
       "      <th>1</th>\n",
       "      <td>B098NS6PVG</td>\n",
       "      <td>Ambrane Unbreakable 60W / 3A Fast Charging 1.5...</td>\n",
       "      <td>Computers&amp;Accessories|Accessories&amp;Peripherals|...</td>\n",
       "      <td>199.0</td>\n",
       "      <td>349.0</td>\n",
       "      <td>43.0</td>\n",
       "      <td>4.0</td>\n",
       "      <td>43,994</td>\n",
       "      <td>Compatible with all Type C enabled devices, be...</td>\n",
       "      <td>https://www.amazon.in/Ambrane-Unbreakable-Char...</td>\n",
       "    </tr>\n",
       "    <tr>\n",
       "      <th>2</th>\n",
       "      <td>B096MSW6CT</td>\n",
       "      <td>Sounce Fast Phone Charging Cable &amp; Data Sync U...</td>\n",
       "      <td>Computers&amp;Accessories|Accessories&amp;Peripherals|...</td>\n",
       "      <td>199.0</td>\n",
       "      <td>1899.0</td>\n",
       "      <td>90.0</td>\n",
       "      <td>3.9</td>\n",
       "      <td>7,928</td>\n",
       "      <td>【 Fast Charger&amp; Data Sync】-With built-in safet...</td>\n",
       "      <td>https://www.amazon.in/Sounce-iPhone-Charging-C...</td>\n",
       "    </tr>\n",
       "    <tr>\n",
       "      <th>3</th>\n",
       "      <td>B08HDJ86NZ</td>\n",
       "      <td>boAt Deuce USB 300 2 in 1 Type-C &amp; Micro USB S...</td>\n",
       "      <td>Computers&amp;Accessories|Accessories&amp;Peripherals|...</td>\n",
       "      <td>329.0</td>\n",
       "      <td>699.0</td>\n",
       "      <td>53.0</td>\n",
       "      <td>4.2</td>\n",
       "      <td>94,363</td>\n",
       "      <td>The boAt Deuce USB 300 2 in 1 cable is compati...</td>\n",
       "      <td>https://www.amazon.in/Deuce-300-Resistant-Tang...</td>\n",
       "    </tr>\n",
       "    <tr>\n",
       "      <th>4</th>\n",
       "      <td>B08CF3B7N1</td>\n",
       "      <td>Portronics Konnect L 1.2M Fast Charging 3A 8 P...</td>\n",
       "      <td>Computers&amp;Accessories|Accessories&amp;Peripherals|...</td>\n",
       "      <td>154.0</td>\n",
       "      <td>399.0</td>\n",
       "      <td>61.0</td>\n",
       "      <td>4.2</td>\n",
       "      <td>16,905</td>\n",
       "      <td>[CHARGE &amp; SYNC FUNCTION]- This cable comes wit...</td>\n",
       "      <td>https://www.amazon.in/Portronics-Konnect-POR-1...</td>\n",
       "    </tr>\n",
       "  </tbody>\n",
       "</table>\n",
       "</div>"
      ],
      "text/plain": [
       "   product_id                                       product_name  \\\n",
       "0  B07JW9H4J1  Wayona Nylon Braided USB to Lightning Fast Cha...   \n",
       "1  B098NS6PVG  Ambrane Unbreakable 60W / 3A Fast Charging 1.5...   \n",
       "2  B096MSW6CT  Sounce Fast Phone Charging Cable & Data Sync U...   \n",
       "3  B08HDJ86NZ  boAt Deuce USB 300 2 in 1 Type-C & Micro USB S...   \n",
       "4  B08CF3B7N1  Portronics Konnect L 1.2M Fast Charging 3A 8 P...   \n",
       "\n",
       "                                            category  discounted_price  \\\n",
       "0  Computers&Accessories|Accessories&Peripherals|...             399.0   \n",
       "1  Computers&Accessories|Accessories&Peripherals|...             199.0   \n",
       "2  Computers&Accessories|Accessories&Peripherals|...             199.0   \n",
       "3  Computers&Accessories|Accessories&Peripherals|...             329.0   \n",
       "4  Computers&Accessories|Accessories&Peripherals|...             154.0   \n",
       "\n",
       "   actual_price  discount_percentage rating rating_count  \\\n",
       "0        1099.0                 64.0    4.2       24,269   \n",
       "1         349.0                 43.0    4.0       43,994   \n",
       "2        1899.0                 90.0    3.9        7,928   \n",
       "3         699.0                 53.0    4.2       94,363   \n",
       "4         399.0                 61.0    4.2       16,905   \n",
       "\n",
       "                                       about_product  \\\n",
       "0  High Compatibility : Compatible With iPhone 12...   \n",
       "1  Compatible with all Type C enabled devices, be...   \n",
       "2  【 Fast Charger& Data Sync】-With built-in safet...   \n",
       "3  The boAt Deuce USB 300 2 in 1 cable is compati...   \n",
       "4  [CHARGE & SYNC FUNCTION]- This cable comes wit...   \n",
       "\n",
       "                                        product_link  \n",
       "0  https://www.amazon.in/Wayona-Braided-WN3LG1-Sy...  \n",
       "1  https://www.amazon.in/Ambrane-Unbreakable-Char...  \n",
       "2  https://www.amazon.in/Sounce-iPhone-Charging-C...  \n",
       "3  https://www.amazon.in/Deuce-300-Resistant-Tang...  \n",
       "4  https://www.amazon.in/Portronics-Konnect-POR-1...  "
      ]
     },
     "execution_count": 101,
     "metadata": {},
     "output_type": "execute_result"
    }
   ],
   "source": [
    "df['discounted_price'] = df['discounted_price'].str.replace('₹','')\n",
    "df['discounted_price'] = df['discounted_price'].str.replace(',','').astype('float')\n",
    "\n",
    "df['actual_price'] = df['actual_price'].str.replace('₹','')\n",
    "df['actual_price'] = df['actual_price'].str.replace(',','').astype('float')\n",
    "\n",
    "df['discount_percentage'] = df['discount_percentage'].str.replace('%','').astype('float')\n",
    "\n",
    "df['rating_count'] = df['rating_count'].str.replace(',','').astype('int32')\n",
    "\n",
    "df.head()"
   ]
  },
  {
   "cell_type": "code",
   "execution_count": 103,
   "id": "c50bc108",
   "metadata": {},
   "outputs": [],
   "source": [
    "df['rating'] = df['rating'].replace('|', np.nan)\n",
    "df=df.dropna()\n",
    "df['rating'] = df['rating'].astype('float')"
   ]
  },
  {
   "cell_type": "code",
   "execution_count": 104,
   "id": "afd466bc",
   "metadata": {},
   "outputs": [
    {
     "name": "stdout",
     "output_type": "stream",
     "text": [
      "<class 'pandas.core.frame.DataFrame'>\n",
      "Int64Index: 1462 entries, 0 to 1464\n",
      "Data columns (total 10 columns):\n",
      " #   Column               Non-Null Count  Dtype  \n",
      "---  ------               --------------  -----  \n",
      " 0   product_id           1462 non-null   object \n",
      " 1   product_name         1462 non-null   object \n",
      " 2   category             1462 non-null   object \n",
      " 3   discounted_price     1462 non-null   float64\n",
      " 4   actual_price         1462 non-null   float64\n",
      " 5   discount_percentage  1462 non-null   float64\n",
      " 6   rating               1462 non-null   float64\n",
      " 7   rating_count         1462 non-null   int32  \n",
      " 8   about_product        1462 non-null   object \n",
      " 9   product_link         1462 non-null   object \n",
      "dtypes: float64(4), int32(1), object(5)\n",
      "memory usage: 119.9+ KB\n"
     ]
    }
   ],
   "source": [
    "df.info()"
   ]
  },
  {
   "cell_type": "code",
   "execution_count": 80,
   "id": "ccc8c31c",
   "metadata": {},
   "outputs": [
    {
     "data": {
      "text/html": [
       "<div>\n",
       "<style scoped>\n",
       "    .dataframe tbody tr th:only-of-type {\n",
       "        vertical-align: middle;\n",
       "    }\n",
       "\n",
       "    .dataframe tbody tr th {\n",
       "        vertical-align: top;\n",
       "    }\n",
       "\n",
       "    .dataframe thead th {\n",
       "        text-align: right;\n",
       "    }\n",
       "</style>\n",
       "<table border=\"1\" class=\"dataframe\">\n",
       "  <thead>\n",
       "    <tr style=\"text-align: right;\">\n",
       "      <th></th>\n",
       "      <th>product_id</th>\n",
       "      <th>product_name</th>\n",
       "      <th>category</th>\n",
       "      <th>discounted_price</th>\n",
       "      <th>actual_price</th>\n",
       "      <th>discount_percentage</th>\n",
       "      <th>rating</th>\n",
       "      <th>rating_count</th>\n",
       "      <th>about_product</th>\n",
       "      <th>product_link</th>\n",
       "    </tr>\n",
       "  </thead>\n",
       "  <tbody>\n",
       "    <tr>\n",
       "      <th>0</th>\n",
       "      <td>B07JW9H4J1</td>\n",
       "      <td>Wayona Nylon Braided USB to Lightning Fast Cha...</td>\n",
       "      <td>Computers&amp;Accessories|Accessories&amp;Peripherals|...</td>\n",
       "      <td>₹399</td>\n",
       "      <td>₹1,099</td>\n",
       "      <td>64%</td>\n",
       "      <td>4.2</td>\n",
       "      <td>24,269</td>\n",
       "      <td>High Compatibility : Compatible With iPhone 12...</td>\n",
       "      <td>https://www.amazon.in/Wayona-Braided-WN3LG1-Sy...</td>\n",
       "    </tr>\n",
       "    <tr>\n",
       "      <th>1</th>\n",
       "      <td>B098NS6PVG</td>\n",
       "      <td>Ambrane Unbreakable 60W / 3A Fast Charging 1.5...</td>\n",
       "      <td>Computers&amp;Accessories|Accessories&amp;Peripherals|...</td>\n",
       "      <td>₹199</td>\n",
       "      <td>₹349</td>\n",
       "      <td>43%</td>\n",
       "      <td>4.0</td>\n",
       "      <td>43,994</td>\n",
       "      <td>Compatible with all Type C enabled devices, be...</td>\n",
       "      <td>https://www.amazon.in/Ambrane-Unbreakable-Char...</td>\n",
       "    </tr>\n",
       "    <tr>\n",
       "      <th>2</th>\n",
       "      <td>B096MSW6CT</td>\n",
       "      <td>Sounce Fast Phone Charging Cable &amp; Data Sync U...</td>\n",
       "      <td>Computers&amp;Accessories|Accessories&amp;Peripherals|...</td>\n",
       "      <td>₹199</td>\n",
       "      <td>₹1,899</td>\n",
       "      <td>90%</td>\n",
       "      <td>3.9</td>\n",
       "      <td>7,928</td>\n",
       "      <td>【 Fast Charger&amp; Data Sync】-With built-in safet...</td>\n",
       "      <td>https://www.amazon.in/Sounce-iPhone-Charging-C...</td>\n",
       "    </tr>\n",
       "    <tr>\n",
       "      <th>3</th>\n",
       "      <td>B08HDJ86NZ</td>\n",
       "      <td>boAt Deuce USB 300 2 in 1 Type-C &amp; Micro USB S...</td>\n",
       "      <td>Computers&amp;Accessories|Accessories&amp;Peripherals|...</td>\n",
       "      <td>₹329</td>\n",
       "      <td>₹699</td>\n",
       "      <td>53%</td>\n",
       "      <td>4.2</td>\n",
       "      <td>94,363</td>\n",
       "      <td>The boAt Deuce USB 300 2 in 1 cable is compati...</td>\n",
       "      <td>https://www.amazon.in/Deuce-300-Resistant-Tang...</td>\n",
       "    </tr>\n",
       "    <tr>\n",
       "      <th>4</th>\n",
       "      <td>B08CF3B7N1</td>\n",
       "      <td>Portronics Konnect L 1.2M Fast Charging 3A 8 P...</td>\n",
       "      <td>Computers&amp;Accessories|Accessories&amp;Peripherals|...</td>\n",
       "      <td>₹154</td>\n",
       "      <td>₹399</td>\n",
       "      <td>61%</td>\n",
       "      <td>4.2</td>\n",
       "      <td>16,905</td>\n",
       "      <td>[CHARGE &amp; SYNC FUNCTION]- This cable comes wit...</td>\n",
       "      <td>https://www.amazon.in/Portronics-Konnect-POR-1...</td>\n",
       "    </tr>\n",
       "  </tbody>\n",
       "</table>\n",
       "</div>"
      ],
      "text/plain": [
       "   product_id                                       product_name  \\\n",
       "0  B07JW9H4J1  Wayona Nylon Braided USB to Lightning Fast Cha...   \n",
       "1  B098NS6PVG  Ambrane Unbreakable 60W / 3A Fast Charging 1.5...   \n",
       "2  B096MSW6CT  Sounce Fast Phone Charging Cable & Data Sync U...   \n",
       "3  B08HDJ86NZ  boAt Deuce USB 300 2 in 1 Type-C & Micro USB S...   \n",
       "4  B08CF3B7N1  Portronics Konnect L 1.2M Fast Charging 3A 8 P...   \n",
       "\n",
       "                                            category discounted_price  \\\n",
       "0  Computers&Accessories|Accessories&Peripherals|...             ₹399   \n",
       "1  Computers&Accessories|Accessories&Peripherals|...             ₹199   \n",
       "2  Computers&Accessories|Accessories&Peripherals|...             ₹199   \n",
       "3  Computers&Accessories|Accessories&Peripherals|...             ₹329   \n",
       "4  Computers&Accessories|Accessories&Peripherals|...             ₹154   \n",
       "\n",
       "  actual_price discount_percentage rating rating_count  \\\n",
       "0       ₹1,099                 64%    4.2       24,269   \n",
       "1         ₹349                 43%    4.0       43,994   \n",
       "2       ₹1,899                 90%    3.9        7,928   \n",
       "3         ₹699                 53%    4.2       94,363   \n",
       "4         ₹399                 61%    4.2       16,905   \n",
       "\n",
       "                                       about_product  \\\n",
       "0  High Compatibility : Compatible With iPhone 12...   \n",
       "1  Compatible with all Type C enabled devices, be...   \n",
       "2  【 Fast Charger& Data Sync】-With built-in safet...   \n",
       "3  The boAt Deuce USB 300 2 in 1 cable is compati...   \n",
       "4  [CHARGE & SYNC FUNCTION]- This cable comes wit...   \n",
       "\n",
       "                                        product_link  \n",
       "0  https://www.amazon.in/Wayona-Braided-WN3LG1-Sy...  \n",
       "1  https://www.amazon.in/Ambrane-Unbreakable-Char...  \n",
       "2  https://www.amazon.in/Sounce-iPhone-Charging-C...  \n",
       "3  https://www.amazon.in/Deuce-300-Resistant-Tang...  \n",
       "4  https://www.amazon.in/Portronics-Konnect-POR-1...  "
      ]
     },
     "execution_count": 80,
     "metadata": {},
     "output_type": "execute_result"
    }
   ],
   "source": [
    "df.head()"
   ]
  },
  {
   "cell_type": "code",
   "execution_count": 55,
   "id": "a8d79489",
   "metadata": {},
   "outputs": [
    {
     "data": {
      "text/html": [
       "<div>\n",
       "<style scoped>\n",
       "    .dataframe tbody tr th:only-of-type {\n",
       "        vertical-align: middle;\n",
       "    }\n",
       "\n",
       "    .dataframe tbody tr th {\n",
       "        vertical-align: top;\n",
       "    }\n",
       "\n",
       "    .dataframe thead th {\n",
       "        text-align: right;\n",
       "    }\n",
       "</style>\n",
       "<table border=\"1\" class=\"dataframe\">\n",
       "  <thead>\n",
       "    <tr style=\"text-align: right;\">\n",
       "      <th></th>\n",
       "      <th>product_id</th>\n",
       "      <th>product_name</th>\n",
       "      <th>category</th>\n",
       "      <th>discounted_price</th>\n",
       "      <th>actual_price</th>\n",
       "      <th>discount_percentage</th>\n",
       "      <th>rating</th>\n",
       "      <th>rating_count</th>\n",
       "      <th>about_product</th>\n",
       "      <th>user_id</th>\n",
       "      <th>user_name</th>\n",
       "      <th>review_id</th>\n",
       "      <th>review_title</th>\n",
       "      <th>review_content</th>\n",
       "      <th>weighted_rating</th>\n",
       "    </tr>\n",
       "  </thead>\n",
       "  <tbody>\n",
       "    <tr>\n",
       "      <th>1145</th>\n",
       "      <td>B0BR4F878Q</td>\n",
       "      <td>Swiffer Instant Electric Water Heater Faucet T...</td>\n",
       "      <td>Home&amp;Kitchen|Heating,Cooling&amp;AirQuality|WaterH...</td>\n",
       "      <td>1439.0</td>\n",
       "      <td>1999.0</td>\n",
       "      <td>28.0</td>\n",
       "      <td>4.8</td>\n",
       "      <td>53803</td>\n",
       "      <td>✔Quick Electric Hot Water Tap Heating tube: hi...</td>\n",
       "      <td>AEU7DVFEL43XZ6T4D572W2ZLBRKQ,AGWOH7CFDMUVW52NM...</td>\n",
       "      <td>Yogita g.,Amazon Customer,Mimsy</td>\n",
       "      <td>R2WHW4PEF14WOD,R2DCCZWUGI0O0K,R1FA1HH6VL1RAL</td>\n",
       "      <td>Best Product,It’s expansive but it works well ...</td>\n",
       "      <td>Must buy best Fabulous product I recommend thi...</td>\n",
       "      <td>4.787167</td>\n",
       "    </tr>\n",
       "    <tr>\n",
       "      <th>1299</th>\n",
       "      <td>B0B53DS4TF</td>\n",
       "      <td>Instant Pot Air Fryer, Vortex 2QT, Touch Contr...</td>\n",
       "      <td>Home&amp;Kitchen|Kitchen&amp;HomeAppliances|SmallKitch...</td>\n",
       "      <td>4995.0</td>\n",
       "      <td>20049.0</td>\n",
       "      <td>75.0</td>\n",
       "      <td>4.8</td>\n",
       "      <td>3964</td>\n",
       "      <td>VOLTAGE (230 Volts): Instant Vortex Air Fryer ...</td>\n",
       "      <td>AGXJAYXZKJ6NCPSLX57MXJLQ3F6Q,AEQYSJWBP6DN2IV2L...</td>\n",
       "      <td>nikhil,Rituja Ray,Prasan Krishnan Karthikeyan,...</td>\n",
       "      <td>R2FHIBV8JE4CTB,R315K0BCU0KVKO,RD129PA7KQQOR,R3...</td>\n",
       "      <td>Loved it,Good product,Good product,It's easy t...</td>\n",
       "      <td>I have used multiple air fryers. But this one ...</td>\n",
       "      <td>4.658323</td>\n",
       "    </tr>\n",
       "    <tr>\n",
       "      <th>459</th>\n",
       "      <td>B0B23LW7NV</td>\n",
       "      <td>Spigen EZ Fit Tempered Glass Screen Protector ...</td>\n",
       "      <td>Electronics|Mobiles&amp;Accessories|MobileAccessor...</td>\n",
       "      <td>999.0</td>\n",
       "      <td>2899.0</td>\n",
       "      <td>66.0</td>\n",
       "      <td>4.7</td>\n",
       "      <td>7779</td>\n",
       "      <td>Compatibility ; Glass Screen Protector Compati...</td>\n",
       "      <td>AGQIXFPHABUZ2WPETGRYDB7VSMXA,AECPF7WFMUQ3TR7YT...</td>\n",
       "      <td>VK,Siddhi Prabhudesai,Prashant Nair,Srihare,Ni...</td>\n",
       "      <td>R13CIOIUD1D8UM,R17AIJTSM1FUNS,R3AJ1T3JVA8O9V,R...</td>\n",
       "      <td>Easy to install,Best screen guard and the easi...</td>\n",
       "      <td>It is easy to install at home. The kit has all...</td>\n",
       "      <td>4.631281</td>\n",
       "    </tr>\n",
       "    <tr>\n",
       "      <th>249</th>\n",
       "      <td>B09WN3SRC7</td>\n",
       "      <td>Sony Bravia 164 cm (65 inches) 4K Ultra HD Sma...</td>\n",
       "      <td>Electronics|HomeTheater,TV&amp;Video|Televisions|S...</td>\n",
       "      <td>77990.0</td>\n",
       "      <td>139900.0</td>\n",
       "      <td>44.0</td>\n",
       "      <td>4.7</td>\n",
       "      <td>5935</td>\n",
       "      <td>Resolution: 4K Ultra HD (3840 x 2160) | Refres...</td>\n",
       "      <td>AF6Z2OYIXRPZJHVYN2MFKKYHPHFQ,AH5SAORYVUN5MGIBL...</td>\n",
       "      <td>David P.,Dr. ATUL THAKUR,Shriniwas Patil,Tahir...</td>\n",
       "      <td>R16HCZ0W1TRSMM,R12J7UKQ0FX3O9,R8729SR7LQFUU,R1...</td>\n",
       "      <td>Product installation was excellent  but delive...</td>\n",
       "      <td>The delivery people were not careful with the ...</td>\n",
       "      <td>4.613009</td>\n",
       "    </tr>\n",
       "    <tr>\n",
       "      <th>820</th>\n",
       "      <td>B01J1CFO5I</td>\n",
       "      <td>Redgear MP35 Speed-Type Gaming Mousepad (Black...</td>\n",
       "      <td>Computers&amp;Accessories|Accessories&amp;Peripherals|...</td>\n",
       "      <td>299.0</td>\n",
       "      <td>550.0</td>\n",
       "      <td>46.0</td>\n",
       "      <td>4.6</td>\n",
       "      <td>33434</td>\n",
       "      <td>Speed-type surface mousepad is designed with t...</td>\n",
       "      <td>AG6LARJ3IHDAIRVVN6WW4Q6JTPJA,AGRR4GPFNWDS7BAR4...</td>\n",
       "      <td>Jayaprakash,Keshav Rana,Mohit prime,Aman singh...</td>\n",
       "      <td>R3358EO9V9WHQ0,R18X1NBWPX45CL,R34LKJ4RXUSRS3,R...</td>\n",
       "      <td>Good product,Good quality,Good,Great mouse pad...</td>\n",
       "      <td>Quality of product is above average.,Good qual...</td>\n",
       "      <td>4.585384</td>\n",
       "    </tr>\n",
       "  </tbody>\n",
       "</table>\n",
       "</div>"
      ],
      "text/plain": [
       "      product_id                                       product_name  \\\n",
       "1145  B0BR4F878Q  Swiffer Instant Electric Water Heater Faucet T...   \n",
       "1299  B0B53DS4TF  Instant Pot Air Fryer, Vortex 2QT, Touch Contr...   \n",
       "459   B0B23LW7NV  Spigen EZ Fit Tempered Glass Screen Protector ...   \n",
       "249   B09WN3SRC7  Sony Bravia 164 cm (65 inches) 4K Ultra HD Sma...   \n",
       "820   B01J1CFO5I  Redgear MP35 Speed-Type Gaming Mousepad (Black...   \n",
       "\n",
       "                                               category  discounted_price  \\\n",
       "1145  Home&Kitchen|Heating,Cooling&AirQuality|WaterH...            1439.0   \n",
       "1299  Home&Kitchen|Kitchen&HomeAppliances|SmallKitch...            4995.0   \n",
       "459   Electronics|Mobiles&Accessories|MobileAccessor...             999.0   \n",
       "249   Electronics|HomeTheater,TV&Video|Televisions|S...           77990.0   \n",
       "820   Computers&Accessories|Accessories&Peripherals|...             299.0   \n",
       "\n",
       "      actual_price  discount_percentage  rating  rating_count  \\\n",
       "1145        1999.0                 28.0     4.8         53803   \n",
       "1299       20049.0                 75.0     4.8          3964   \n",
       "459         2899.0                 66.0     4.7          7779   \n",
       "249       139900.0                 44.0     4.7          5935   \n",
       "820          550.0                 46.0     4.6         33434   \n",
       "\n",
       "                                          about_product  \\\n",
       "1145  ✔Quick Electric Hot Water Tap Heating tube: hi...   \n",
       "1299  VOLTAGE (230 Volts): Instant Vortex Air Fryer ...   \n",
       "459   Compatibility ; Glass Screen Protector Compati...   \n",
       "249   Resolution: 4K Ultra HD (3840 x 2160) | Refres...   \n",
       "820   Speed-type surface mousepad is designed with t...   \n",
       "\n",
       "                                                user_id  \\\n",
       "1145  AEU7DVFEL43XZ6T4D572W2ZLBRKQ,AGWOH7CFDMUVW52NM...   \n",
       "1299  AGXJAYXZKJ6NCPSLX57MXJLQ3F6Q,AEQYSJWBP6DN2IV2L...   \n",
       "459   AGQIXFPHABUZ2WPETGRYDB7VSMXA,AECPF7WFMUQ3TR7YT...   \n",
       "249   AF6Z2OYIXRPZJHVYN2MFKKYHPHFQ,AH5SAORYVUN5MGIBL...   \n",
       "820   AG6LARJ3IHDAIRVVN6WW4Q6JTPJA,AGRR4GPFNWDS7BAR4...   \n",
       "\n",
       "                                              user_name  \\\n",
       "1145                    Yogita g.,Amazon Customer,Mimsy   \n",
       "1299  nikhil,Rituja Ray,Prasan Krishnan Karthikeyan,...   \n",
       "459   VK,Siddhi Prabhudesai,Prashant Nair,Srihare,Ni...   \n",
       "249   David P.,Dr. ATUL THAKUR,Shriniwas Patil,Tahir...   \n",
       "820   Jayaprakash,Keshav Rana,Mohit prime,Aman singh...   \n",
       "\n",
       "                                              review_id  \\\n",
       "1145       R2WHW4PEF14WOD,R2DCCZWUGI0O0K,R1FA1HH6VL1RAL   \n",
       "1299  R2FHIBV8JE4CTB,R315K0BCU0KVKO,RD129PA7KQQOR,R3...   \n",
       "459   R13CIOIUD1D8UM,R17AIJTSM1FUNS,R3AJ1T3JVA8O9V,R...   \n",
       "249   R16HCZ0W1TRSMM,R12J7UKQ0FX3O9,R8729SR7LQFUU,R1...   \n",
       "820   R3358EO9V9WHQ0,R18X1NBWPX45CL,R34LKJ4RXUSRS3,R...   \n",
       "\n",
       "                                           review_title  \\\n",
       "1145  Best Product,It’s expansive but it works well ...   \n",
       "1299  Loved it,Good product,Good product,It's easy t...   \n",
       "459   Easy to install,Best screen guard and the easi...   \n",
       "249   Product installation was excellent  but delive...   \n",
       "820   Good product,Good quality,Good,Great mouse pad...   \n",
       "\n",
       "                                         review_content  weighted_rating  \n",
       "1145  Must buy best Fabulous product I recommend thi...         4.787167  \n",
       "1299  I have used multiple air fryers. But this one ...         4.658323  \n",
       "459   It is easy to install at home. The kit has all...         4.631281  \n",
       "249   The delivery people were not careful with the ...         4.613009  \n",
       "820   Quality of product is above average.,Good qual...         4.585384  "
      ]
     },
     "execution_count": 55,
     "metadata": {},
     "output_type": "execute_result"
    }
   ],
   "source": [
    "# Set minimum number of ratings required to be considered\n",
    "m = 1000  # Adjust this value as per your requirement\n",
    "\n",
    "# Calculate mean rating across all products\n",
    "C = df['rating'].mean()\n",
    "\n",
    "# Calculate the weighted rating for each product\n",
    "df['weighted_rating'] = (df['rating_count'] / (df['rating_count'] + m)) * df['rating'] + (m / (df['rating_count'] + m)) * C\n",
    "\n",
    "# Sort the products based on their weighted rating in descending order\n",
    "top_rated_products = df.sort_values(by='weighted_rating', ascending=False)\n",
    "\n",
    "top_rated_products.head(10)"
   ]
  },
  {
   "cell_type": "code",
   "execution_count": 108,
   "id": "7faab019",
   "metadata": {},
   "outputs": [
    {
     "data": {
      "application/vnd.plotly.v1+json": {
       "config": {
        "plotlyServerURL": "https://plot.ly"
       },
       "data": [
        {
         "marker": {
          "color": "rgb(65,105,225)"
         },
         "type": "bar",
         "x": [
          "B0BR4F878Q",
          "B0B53DS4TF",
          "B0B23LW7NV",
          "B09WN3SRC7",
          "B01J1CFO5I",
          "B095RTJH1M",
          "B01MQ2A86A",
          "B00NFD0ETQ",
          "B07X2L5Z8C",
          "B00K57MR22"
         ],
         "y": [
          4.787167067975575,
          4.6583232929624065,
          4.631281105623122,
          4.613008915106761,
          4.585384121108944,
          4.58176708423959,
          4.562371351496478,
          4.557203811757261,
          4.556807142659234,
          4.533339976988793
         ]
        }
       ],
       "layout": {
        "template": {
         "data": {
          "bar": [
           {
            "error_x": {
             "color": "#2a3f5f"
            },
            "error_y": {
             "color": "#2a3f5f"
            },
            "marker": {
             "line": {
              "color": "#E5ECF6",
              "width": 0.5
             },
             "pattern": {
              "fillmode": "overlay",
              "size": 10,
              "solidity": 0.2
             }
            },
            "type": "bar"
           }
          ],
          "barpolar": [
           {
            "marker": {
             "line": {
              "color": "#E5ECF6",
              "width": 0.5
             },
             "pattern": {
              "fillmode": "overlay",
              "size": 10,
              "solidity": 0.2
             }
            },
            "type": "barpolar"
           }
          ],
          "carpet": [
           {
            "aaxis": {
             "endlinecolor": "#2a3f5f",
             "gridcolor": "white",
             "linecolor": "white",
             "minorgridcolor": "white",
             "startlinecolor": "#2a3f5f"
            },
            "baxis": {
             "endlinecolor": "#2a3f5f",
             "gridcolor": "white",
             "linecolor": "white",
             "minorgridcolor": "white",
             "startlinecolor": "#2a3f5f"
            },
            "type": "carpet"
           }
          ],
          "choropleth": [
           {
            "colorbar": {
             "outlinewidth": 0,
             "ticks": ""
            },
            "type": "choropleth"
           }
          ],
          "contour": [
           {
            "colorbar": {
             "outlinewidth": 0,
             "ticks": ""
            },
            "colorscale": [
             [
              0,
              "#0d0887"
             ],
             [
              0.1111111111111111,
              "#46039f"
             ],
             [
              0.2222222222222222,
              "#7201a8"
             ],
             [
              0.3333333333333333,
              "#9c179e"
             ],
             [
              0.4444444444444444,
              "#bd3786"
             ],
             [
              0.5555555555555556,
              "#d8576b"
             ],
             [
              0.6666666666666666,
              "#ed7953"
             ],
             [
              0.7777777777777778,
              "#fb9f3a"
             ],
             [
              0.8888888888888888,
              "#fdca26"
             ],
             [
              1,
              "#f0f921"
             ]
            ],
            "type": "contour"
           }
          ],
          "contourcarpet": [
           {
            "colorbar": {
             "outlinewidth": 0,
             "ticks": ""
            },
            "type": "contourcarpet"
           }
          ],
          "heatmap": [
           {
            "colorbar": {
             "outlinewidth": 0,
             "ticks": ""
            },
            "colorscale": [
             [
              0,
              "#0d0887"
             ],
             [
              0.1111111111111111,
              "#46039f"
             ],
             [
              0.2222222222222222,
              "#7201a8"
             ],
             [
              0.3333333333333333,
              "#9c179e"
             ],
             [
              0.4444444444444444,
              "#bd3786"
             ],
             [
              0.5555555555555556,
              "#d8576b"
             ],
             [
              0.6666666666666666,
              "#ed7953"
             ],
             [
              0.7777777777777778,
              "#fb9f3a"
             ],
             [
              0.8888888888888888,
              "#fdca26"
             ],
             [
              1,
              "#f0f921"
             ]
            ],
            "type": "heatmap"
           }
          ],
          "heatmapgl": [
           {
            "colorbar": {
             "outlinewidth": 0,
             "ticks": ""
            },
            "colorscale": [
             [
              0,
              "#0d0887"
             ],
             [
              0.1111111111111111,
              "#46039f"
             ],
             [
              0.2222222222222222,
              "#7201a8"
             ],
             [
              0.3333333333333333,
              "#9c179e"
             ],
             [
              0.4444444444444444,
              "#bd3786"
             ],
             [
              0.5555555555555556,
              "#d8576b"
             ],
             [
              0.6666666666666666,
              "#ed7953"
             ],
             [
              0.7777777777777778,
              "#fb9f3a"
             ],
             [
              0.8888888888888888,
              "#fdca26"
             ],
             [
              1,
              "#f0f921"
             ]
            ],
            "type": "heatmapgl"
           }
          ],
          "histogram": [
           {
            "marker": {
             "pattern": {
              "fillmode": "overlay",
              "size": 10,
              "solidity": 0.2
             }
            },
            "type": "histogram"
           }
          ],
          "histogram2d": [
           {
            "colorbar": {
             "outlinewidth": 0,
             "ticks": ""
            },
            "colorscale": [
             [
              0,
              "#0d0887"
             ],
             [
              0.1111111111111111,
              "#46039f"
             ],
             [
              0.2222222222222222,
              "#7201a8"
             ],
             [
              0.3333333333333333,
              "#9c179e"
             ],
             [
              0.4444444444444444,
              "#bd3786"
             ],
             [
              0.5555555555555556,
              "#d8576b"
             ],
             [
              0.6666666666666666,
              "#ed7953"
             ],
             [
              0.7777777777777778,
              "#fb9f3a"
             ],
             [
              0.8888888888888888,
              "#fdca26"
             ],
             [
              1,
              "#f0f921"
             ]
            ],
            "type": "histogram2d"
           }
          ],
          "histogram2dcontour": [
           {
            "colorbar": {
             "outlinewidth": 0,
             "ticks": ""
            },
            "colorscale": [
             [
              0,
              "#0d0887"
             ],
             [
              0.1111111111111111,
              "#46039f"
             ],
             [
              0.2222222222222222,
              "#7201a8"
             ],
             [
              0.3333333333333333,
              "#9c179e"
             ],
             [
              0.4444444444444444,
              "#bd3786"
             ],
             [
              0.5555555555555556,
              "#d8576b"
             ],
             [
              0.6666666666666666,
              "#ed7953"
             ],
             [
              0.7777777777777778,
              "#fb9f3a"
             ],
             [
              0.8888888888888888,
              "#fdca26"
             ],
             [
              1,
              "#f0f921"
             ]
            ],
            "type": "histogram2dcontour"
           }
          ],
          "mesh3d": [
           {
            "colorbar": {
             "outlinewidth": 0,
             "ticks": ""
            },
            "type": "mesh3d"
           }
          ],
          "parcoords": [
           {
            "line": {
             "colorbar": {
              "outlinewidth": 0,
              "ticks": ""
             }
            },
            "type": "parcoords"
           }
          ],
          "pie": [
           {
            "automargin": true,
            "type": "pie"
           }
          ],
          "scatter": [
           {
            "fillpattern": {
             "fillmode": "overlay",
             "size": 10,
             "solidity": 0.2
            },
            "type": "scatter"
           }
          ],
          "scatter3d": [
           {
            "line": {
             "colorbar": {
              "outlinewidth": 0,
              "ticks": ""
             }
            },
            "marker": {
             "colorbar": {
              "outlinewidth": 0,
              "ticks": ""
             }
            },
            "type": "scatter3d"
           }
          ],
          "scattercarpet": [
           {
            "marker": {
             "colorbar": {
              "outlinewidth": 0,
              "ticks": ""
             }
            },
            "type": "scattercarpet"
           }
          ],
          "scattergeo": [
           {
            "marker": {
             "colorbar": {
              "outlinewidth": 0,
              "ticks": ""
             }
            },
            "type": "scattergeo"
           }
          ],
          "scattergl": [
           {
            "marker": {
             "colorbar": {
              "outlinewidth": 0,
              "ticks": ""
             }
            },
            "type": "scattergl"
           }
          ],
          "scattermapbox": [
           {
            "marker": {
             "colorbar": {
              "outlinewidth": 0,
              "ticks": ""
             }
            },
            "type": "scattermapbox"
           }
          ],
          "scatterpolar": [
           {
            "marker": {
             "colorbar": {
              "outlinewidth": 0,
              "ticks": ""
             }
            },
            "type": "scatterpolar"
           }
          ],
          "scatterpolargl": [
           {
            "marker": {
             "colorbar": {
              "outlinewidth": 0,
              "ticks": ""
             }
            },
            "type": "scatterpolargl"
           }
          ],
          "scatterternary": [
           {
            "marker": {
             "colorbar": {
              "outlinewidth": 0,
              "ticks": ""
             }
            },
            "type": "scatterternary"
           }
          ],
          "surface": [
           {
            "colorbar": {
             "outlinewidth": 0,
             "ticks": ""
            },
            "colorscale": [
             [
              0,
              "#0d0887"
             ],
             [
              0.1111111111111111,
              "#46039f"
             ],
             [
              0.2222222222222222,
              "#7201a8"
             ],
             [
              0.3333333333333333,
              "#9c179e"
             ],
             [
              0.4444444444444444,
              "#bd3786"
             ],
             [
              0.5555555555555556,
              "#d8576b"
             ],
             [
              0.6666666666666666,
              "#ed7953"
             ],
             [
              0.7777777777777778,
              "#fb9f3a"
             ],
             [
              0.8888888888888888,
              "#fdca26"
             ],
             [
              1,
              "#f0f921"
             ]
            ],
            "type": "surface"
           }
          ],
          "table": [
           {
            "cells": {
             "fill": {
              "color": "#EBF0F8"
             },
             "line": {
              "color": "white"
             }
            },
            "header": {
             "fill": {
              "color": "#C8D4E3"
             },
             "line": {
              "color": "white"
             }
            },
            "type": "table"
           }
          ]
         },
         "layout": {
          "annotationdefaults": {
           "arrowcolor": "#2a3f5f",
           "arrowhead": 0,
           "arrowwidth": 1
          },
          "autotypenumbers": "strict",
          "coloraxis": {
           "colorbar": {
            "outlinewidth": 0,
            "ticks": ""
           }
          },
          "colorscale": {
           "diverging": [
            [
             0,
             "#8e0152"
            ],
            [
             0.1,
             "#c51b7d"
            ],
            [
             0.2,
             "#de77ae"
            ],
            [
             0.3,
             "#f1b6da"
            ],
            [
             0.4,
             "#fde0ef"
            ],
            [
             0.5,
             "#f7f7f7"
            ],
            [
             0.6,
             "#e6f5d0"
            ],
            [
             0.7,
             "#b8e186"
            ],
            [
             0.8,
             "#7fbc41"
            ],
            [
             0.9,
             "#4d9221"
            ],
            [
             1,
             "#276419"
            ]
           ],
           "sequential": [
            [
             0,
             "#0d0887"
            ],
            [
             0.1111111111111111,
             "#46039f"
            ],
            [
             0.2222222222222222,
             "#7201a8"
            ],
            [
             0.3333333333333333,
             "#9c179e"
            ],
            [
             0.4444444444444444,
             "#bd3786"
            ],
            [
             0.5555555555555556,
             "#d8576b"
            ],
            [
             0.6666666666666666,
             "#ed7953"
            ],
            [
             0.7777777777777778,
             "#fb9f3a"
            ],
            [
             0.8888888888888888,
             "#fdca26"
            ],
            [
             1,
             "#f0f921"
            ]
           ],
           "sequentialminus": [
            [
             0,
             "#0d0887"
            ],
            [
             0.1111111111111111,
             "#46039f"
            ],
            [
             0.2222222222222222,
             "#7201a8"
            ],
            [
             0.3333333333333333,
             "#9c179e"
            ],
            [
             0.4444444444444444,
             "#bd3786"
            ],
            [
             0.5555555555555556,
             "#d8576b"
            ],
            [
             0.6666666666666666,
             "#ed7953"
            ],
            [
             0.7777777777777778,
             "#fb9f3a"
            ],
            [
             0.8888888888888888,
             "#fdca26"
            ],
            [
             1,
             "#f0f921"
            ]
           ]
          },
          "colorway": [
           "#636efa",
           "#EF553B",
           "#00cc96",
           "#ab63fa",
           "#FFA15A",
           "#19d3f3",
           "#FF6692",
           "#B6E880",
           "#FF97FF",
           "#FECB52"
          ],
          "font": {
           "color": "#2a3f5f"
          },
          "geo": {
           "bgcolor": "white",
           "lakecolor": "white",
           "landcolor": "#E5ECF6",
           "showlakes": true,
           "showland": true,
           "subunitcolor": "white"
          },
          "hoverlabel": {
           "align": "left"
          },
          "hovermode": "closest",
          "mapbox": {
           "style": "light"
          },
          "paper_bgcolor": "white",
          "plot_bgcolor": "#E5ECF6",
          "polar": {
           "angularaxis": {
            "gridcolor": "white",
            "linecolor": "white",
            "ticks": ""
           },
           "bgcolor": "#E5ECF6",
           "radialaxis": {
            "gridcolor": "white",
            "linecolor": "white",
            "ticks": ""
           }
          },
          "scene": {
           "xaxis": {
            "backgroundcolor": "#E5ECF6",
            "gridcolor": "white",
            "gridwidth": 2,
            "linecolor": "white",
            "showbackground": true,
            "ticks": "",
            "zerolinecolor": "white"
           },
           "yaxis": {
            "backgroundcolor": "#E5ECF6",
            "gridcolor": "white",
            "gridwidth": 2,
            "linecolor": "white",
            "showbackground": true,
            "ticks": "",
            "zerolinecolor": "white"
           },
           "zaxis": {
            "backgroundcolor": "#E5ECF6",
            "gridcolor": "white",
            "gridwidth": 2,
            "linecolor": "white",
            "showbackground": true,
            "ticks": "",
            "zerolinecolor": "white"
           }
          },
          "shapedefaults": {
           "line": {
            "color": "#2a3f5f"
           }
          },
          "ternary": {
           "aaxis": {
            "gridcolor": "white",
            "linecolor": "white",
            "ticks": ""
           },
           "baxis": {
            "gridcolor": "white",
            "linecolor": "white",
            "ticks": ""
           },
           "bgcolor": "#E5ECF6",
           "caxis": {
            "gridcolor": "white",
            "linecolor": "white",
            "ticks": ""
           }
          },
          "title": {
           "x": 0.05
          },
          "xaxis": {
           "automargin": true,
           "gridcolor": "white",
           "linecolor": "white",
           "ticks": "",
           "title": {
            "standoff": 15
           },
           "zerolinecolor": "white",
           "zerolinewidth": 2
          },
          "yaxis": {
           "automargin": true,
           "gridcolor": "white",
           "linecolor": "white",
           "ticks": "",
           "title": {
            "standoff": 15
           },
           "zerolinecolor": "white",
           "zerolinewidth": 2
          }
         }
        },
        "title": {
         "text": "Top 10 Rated Products"
        },
        "xaxis": {
         "tickangle": -45,
         "title": {
          "text": "Product ID"
         }
        },
        "yaxis": {
         "title": {
          "text": "Weighted Rating"
         }
        }
       }
      },
      "text/html": [
       "<div>                            <div id=\"f2577719-7a79-4e09-b46f-3e1d2414d145\" class=\"plotly-graph-div\" style=\"height:525px; width:100%;\"></div>            <script type=\"text/javascript\">                require([\"plotly\"], function(Plotly) {                    window.PLOTLYENV=window.PLOTLYENV || {};                                    if (document.getElementById(\"f2577719-7a79-4e09-b46f-3e1d2414d145\")) {                    Plotly.newPlot(                        \"f2577719-7a79-4e09-b46f-3e1d2414d145\",                        [{\"marker\":{\"color\":\"rgb(65,105,225)\"},\"x\":[\"B0BR4F878Q\",\"B0B53DS4TF\",\"B0B23LW7NV\",\"B09WN3SRC7\",\"B01J1CFO5I\",\"B095RTJH1M\",\"B01MQ2A86A\",\"B00NFD0ETQ\",\"B07X2L5Z8C\",\"B00K57MR22\"],\"y\":[4.787167067975575,4.6583232929624065,4.631281105623122,4.613008915106761,4.585384121108944,4.58176708423959,4.562371351496478,4.557203811757261,4.556807142659234,4.533339976988793],\"type\":\"bar\"}],                        {\"template\":{\"data\":{\"histogram2dcontour\":[{\"type\":\"histogram2dcontour\",\"colorbar\":{\"outlinewidth\":0,\"ticks\":\"\"},\"colorscale\":[[0.0,\"#0d0887\"],[0.1111111111111111,\"#46039f\"],[0.2222222222222222,\"#7201a8\"],[0.3333333333333333,\"#9c179e\"],[0.4444444444444444,\"#bd3786\"],[0.5555555555555556,\"#d8576b\"],[0.6666666666666666,\"#ed7953\"],[0.7777777777777778,\"#fb9f3a\"],[0.8888888888888888,\"#fdca26\"],[1.0,\"#f0f921\"]]}],\"choropleth\":[{\"type\":\"choropleth\",\"colorbar\":{\"outlinewidth\":0,\"ticks\":\"\"}}],\"histogram2d\":[{\"type\":\"histogram2d\",\"colorbar\":{\"outlinewidth\":0,\"ticks\":\"\"},\"colorscale\":[[0.0,\"#0d0887\"],[0.1111111111111111,\"#46039f\"],[0.2222222222222222,\"#7201a8\"],[0.3333333333333333,\"#9c179e\"],[0.4444444444444444,\"#bd3786\"],[0.5555555555555556,\"#d8576b\"],[0.6666666666666666,\"#ed7953\"],[0.7777777777777778,\"#fb9f3a\"],[0.8888888888888888,\"#fdca26\"],[1.0,\"#f0f921\"]]}],\"heatmap\":[{\"type\":\"heatmap\",\"colorbar\":{\"outlinewidth\":0,\"ticks\":\"\"},\"colorscale\":[[0.0,\"#0d0887\"],[0.1111111111111111,\"#46039f\"],[0.2222222222222222,\"#7201a8\"],[0.3333333333333333,\"#9c179e\"],[0.4444444444444444,\"#bd3786\"],[0.5555555555555556,\"#d8576b\"],[0.6666666666666666,\"#ed7953\"],[0.7777777777777778,\"#fb9f3a\"],[0.8888888888888888,\"#fdca26\"],[1.0,\"#f0f921\"]]}],\"heatmapgl\":[{\"type\":\"heatmapgl\",\"colorbar\":{\"outlinewidth\":0,\"ticks\":\"\"},\"colorscale\":[[0.0,\"#0d0887\"],[0.1111111111111111,\"#46039f\"],[0.2222222222222222,\"#7201a8\"],[0.3333333333333333,\"#9c179e\"],[0.4444444444444444,\"#bd3786\"],[0.5555555555555556,\"#d8576b\"],[0.6666666666666666,\"#ed7953\"],[0.7777777777777778,\"#fb9f3a\"],[0.8888888888888888,\"#fdca26\"],[1.0,\"#f0f921\"]]}],\"contourcarpet\":[{\"type\":\"contourcarpet\",\"colorbar\":{\"outlinewidth\":0,\"ticks\":\"\"}}],\"contour\":[{\"type\":\"contour\",\"colorbar\":{\"outlinewidth\":0,\"ticks\":\"\"},\"colorscale\":[[0.0,\"#0d0887\"],[0.1111111111111111,\"#46039f\"],[0.2222222222222222,\"#7201a8\"],[0.3333333333333333,\"#9c179e\"],[0.4444444444444444,\"#bd3786\"],[0.5555555555555556,\"#d8576b\"],[0.6666666666666666,\"#ed7953\"],[0.7777777777777778,\"#fb9f3a\"],[0.8888888888888888,\"#fdca26\"],[1.0,\"#f0f921\"]]}],\"surface\":[{\"type\":\"surface\",\"colorbar\":{\"outlinewidth\":0,\"ticks\":\"\"},\"colorscale\":[[0.0,\"#0d0887\"],[0.1111111111111111,\"#46039f\"],[0.2222222222222222,\"#7201a8\"],[0.3333333333333333,\"#9c179e\"],[0.4444444444444444,\"#bd3786\"],[0.5555555555555556,\"#d8576b\"],[0.6666666666666666,\"#ed7953\"],[0.7777777777777778,\"#fb9f3a\"],[0.8888888888888888,\"#fdca26\"],[1.0,\"#f0f921\"]]}],\"mesh3d\":[{\"type\":\"mesh3d\",\"colorbar\":{\"outlinewidth\":0,\"ticks\":\"\"}}],\"scatter\":[{\"fillpattern\":{\"fillmode\":\"overlay\",\"size\":10,\"solidity\":0.2},\"type\":\"scatter\"}],\"parcoords\":[{\"type\":\"parcoords\",\"line\":{\"colorbar\":{\"outlinewidth\":0,\"ticks\":\"\"}}}],\"scatterpolargl\":[{\"type\":\"scatterpolargl\",\"marker\":{\"colorbar\":{\"outlinewidth\":0,\"ticks\":\"\"}}}],\"bar\":[{\"error_x\":{\"color\":\"#2a3f5f\"},\"error_y\":{\"color\":\"#2a3f5f\"},\"marker\":{\"line\":{\"color\":\"#E5ECF6\",\"width\":0.5},\"pattern\":{\"fillmode\":\"overlay\",\"size\":10,\"solidity\":0.2}},\"type\":\"bar\"}],\"scattergeo\":[{\"type\":\"scattergeo\",\"marker\":{\"colorbar\":{\"outlinewidth\":0,\"ticks\":\"\"}}}],\"scatterpolar\":[{\"type\":\"scatterpolar\",\"marker\":{\"colorbar\":{\"outlinewidth\":0,\"ticks\":\"\"}}}],\"histogram\":[{\"marker\":{\"pattern\":{\"fillmode\":\"overlay\",\"size\":10,\"solidity\":0.2}},\"type\":\"histogram\"}],\"scattergl\":[{\"type\":\"scattergl\",\"marker\":{\"colorbar\":{\"outlinewidth\":0,\"ticks\":\"\"}}}],\"scatter3d\":[{\"type\":\"scatter3d\",\"line\":{\"colorbar\":{\"outlinewidth\":0,\"ticks\":\"\"}},\"marker\":{\"colorbar\":{\"outlinewidth\":0,\"ticks\":\"\"}}}],\"scattermapbox\":[{\"type\":\"scattermapbox\",\"marker\":{\"colorbar\":{\"outlinewidth\":0,\"ticks\":\"\"}}}],\"scatterternary\":[{\"type\":\"scatterternary\",\"marker\":{\"colorbar\":{\"outlinewidth\":0,\"ticks\":\"\"}}}],\"scattercarpet\":[{\"type\":\"scattercarpet\",\"marker\":{\"colorbar\":{\"outlinewidth\":0,\"ticks\":\"\"}}}],\"carpet\":[{\"aaxis\":{\"endlinecolor\":\"#2a3f5f\",\"gridcolor\":\"white\",\"linecolor\":\"white\",\"minorgridcolor\":\"white\",\"startlinecolor\":\"#2a3f5f\"},\"baxis\":{\"endlinecolor\":\"#2a3f5f\",\"gridcolor\":\"white\",\"linecolor\":\"white\",\"minorgridcolor\":\"white\",\"startlinecolor\":\"#2a3f5f\"},\"type\":\"carpet\"}],\"table\":[{\"cells\":{\"fill\":{\"color\":\"#EBF0F8\"},\"line\":{\"color\":\"white\"}},\"header\":{\"fill\":{\"color\":\"#C8D4E3\"},\"line\":{\"color\":\"white\"}},\"type\":\"table\"}],\"barpolar\":[{\"marker\":{\"line\":{\"color\":\"#E5ECF6\",\"width\":0.5},\"pattern\":{\"fillmode\":\"overlay\",\"size\":10,\"solidity\":0.2}},\"type\":\"barpolar\"}],\"pie\":[{\"automargin\":true,\"type\":\"pie\"}]},\"layout\":{\"autotypenumbers\":\"strict\",\"colorway\":[\"#636efa\",\"#EF553B\",\"#00cc96\",\"#ab63fa\",\"#FFA15A\",\"#19d3f3\",\"#FF6692\",\"#B6E880\",\"#FF97FF\",\"#FECB52\"],\"font\":{\"color\":\"#2a3f5f\"},\"hovermode\":\"closest\",\"hoverlabel\":{\"align\":\"left\"},\"paper_bgcolor\":\"white\",\"plot_bgcolor\":\"#E5ECF6\",\"polar\":{\"bgcolor\":\"#E5ECF6\",\"angularaxis\":{\"gridcolor\":\"white\",\"linecolor\":\"white\",\"ticks\":\"\"},\"radialaxis\":{\"gridcolor\":\"white\",\"linecolor\":\"white\",\"ticks\":\"\"}},\"ternary\":{\"bgcolor\":\"#E5ECF6\",\"aaxis\":{\"gridcolor\":\"white\",\"linecolor\":\"white\",\"ticks\":\"\"},\"baxis\":{\"gridcolor\":\"white\",\"linecolor\":\"white\",\"ticks\":\"\"},\"caxis\":{\"gridcolor\":\"white\",\"linecolor\":\"white\",\"ticks\":\"\"}},\"coloraxis\":{\"colorbar\":{\"outlinewidth\":0,\"ticks\":\"\"}},\"colorscale\":{\"sequential\":[[0.0,\"#0d0887\"],[0.1111111111111111,\"#46039f\"],[0.2222222222222222,\"#7201a8\"],[0.3333333333333333,\"#9c179e\"],[0.4444444444444444,\"#bd3786\"],[0.5555555555555556,\"#d8576b\"],[0.6666666666666666,\"#ed7953\"],[0.7777777777777778,\"#fb9f3a\"],[0.8888888888888888,\"#fdca26\"],[1.0,\"#f0f921\"]],\"sequentialminus\":[[0.0,\"#0d0887\"],[0.1111111111111111,\"#46039f\"],[0.2222222222222222,\"#7201a8\"],[0.3333333333333333,\"#9c179e\"],[0.4444444444444444,\"#bd3786\"],[0.5555555555555556,\"#d8576b\"],[0.6666666666666666,\"#ed7953\"],[0.7777777777777778,\"#fb9f3a\"],[0.8888888888888888,\"#fdca26\"],[1.0,\"#f0f921\"]],\"diverging\":[[0,\"#8e0152\"],[0.1,\"#c51b7d\"],[0.2,\"#de77ae\"],[0.3,\"#f1b6da\"],[0.4,\"#fde0ef\"],[0.5,\"#f7f7f7\"],[0.6,\"#e6f5d0\"],[0.7,\"#b8e186\"],[0.8,\"#7fbc41\"],[0.9,\"#4d9221\"],[1,\"#276419\"]]},\"xaxis\":{\"gridcolor\":\"white\",\"linecolor\":\"white\",\"ticks\":\"\",\"title\":{\"standoff\":15},\"zerolinecolor\":\"white\",\"automargin\":true,\"zerolinewidth\":2},\"yaxis\":{\"gridcolor\":\"white\",\"linecolor\":\"white\",\"ticks\":\"\",\"title\":{\"standoff\":15},\"zerolinecolor\":\"white\",\"automargin\":true,\"zerolinewidth\":2},\"scene\":{\"xaxis\":{\"backgroundcolor\":\"#E5ECF6\",\"gridcolor\":\"white\",\"linecolor\":\"white\",\"showbackground\":true,\"ticks\":\"\",\"zerolinecolor\":\"white\",\"gridwidth\":2},\"yaxis\":{\"backgroundcolor\":\"#E5ECF6\",\"gridcolor\":\"white\",\"linecolor\":\"white\",\"showbackground\":true,\"ticks\":\"\",\"zerolinecolor\":\"white\",\"gridwidth\":2},\"zaxis\":{\"backgroundcolor\":\"#E5ECF6\",\"gridcolor\":\"white\",\"linecolor\":\"white\",\"showbackground\":true,\"ticks\":\"\",\"zerolinecolor\":\"white\",\"gridwidth\":2}},\"shapedefaults\":{\"line\":{\"color\":\"#2a3f5f\"}},\"annotationdefaults\":{\"arrowcolor\":\"#2a3f5f\",\"arrowhead\":0,\"arrowwidth\":1},\"geo\":{\"bgcolor\":\"white\",\"landcolor\":\"#E5ECF6\",\"subunitcolor\":\"white\",\"showland\":true,\"showlakes\":true,\"lakecolor\":\"white\"},\"title\":{\"x\":0.05},\"mapbox\":{\"style\":\"light\"}}},\"xaxis\":{\"title\":{\"text\":\"Product ID\"},\"tickangle\":-45},\"title\":{\"text\":\"Top 10 Rated Products\"},\"yaxis\":{\"title\":{\"text\":\"Weighted Rating\"}}},                        {\"responsive\": true}                    ).then(function(){\n",
       "                            \n",
       "var gd = document.getElementById('f2577719-7a79-4e09-b46f-3e1d2414d145');\n",
       "var x = new MutationObserver(function (mutations, observer) {{\n",
       "        var display = window.getComputedStyle(gd).display;\n",
       "        if (!display || display === 'none') {{\n",
       "            console.log([gd, 'removed!']);\n",
       "            Plotly.purge(gd);\n",
       "            observer.disconnect();\n",
       "        }}\n",
       "}});\n",
       "\n",
       "// Listen for the removal of the full notebook cells\n",
       "var notebookContainer = gd.closest('#notebook-container');\n",
       "if (notebookContainer) {{\n",
       "    x.observe(notebookContainer, {childList: true});\n",
       "}}\n",
       "\n",
       "// Listen for the clearing of the current output cell\n",
       "var outputEl = gd.closest('.output');\n",
       "if (outputEl) {{\n",
       "    x.observe(outputEl, {childList: true});\n",
       "}}\n",
       "\n",
       "                        })                };                });            </script>        </div>"
      ]
     },
     "metadata": {},
     "output_type": "display_data"
    }
   ],
   "source": [
    "import plotly.graph_objs as go\n",
    "\n",
    "# Set minimum number of ratings required to be considered\n",
    "m = 1000  # Adjust this value as per your requirement\n",
    "\n",
    "# Calculate mean rating across all products\n",
    "C = df['rating'].mean()\n",
    "\n",
    "# Calculate the weighted rating for each product\n",
    "df['weighted_rating'] = (df['rating_count'] / (df['rating_count'] + m)) * df['rating'] + (m / (df['rating_count'] + m)) * C\n",
    "\n",
    "# Sort the products based on their weighted rating in descending order\n",
    "top_rated_products = df.sort_values(by='weighted_rating', ascending=False)\n",
    "\n",
    "# Select the top 10 rated products\n",
    "top_10_rated_products = top_rated_products.head(10)\n",
    "\n",
    "# Create a bar chart\n",
    "fig = go.Figure(data=[go.Bar(\n",
    "    x=top_10_rated_products['product_id'],\n",
    "    y=top_10_rated_products['weighted_rating'],\n",
    "    marker_color='rgb(65,105,225)'  # Set color\n",
    ")])\n",
    "\n",
    "# Update layout\n",
    "fig.update_layout(title='Top 10 Rated Products',\n",
    "                  xaxis_title='Product ID',\n",
    "                  yaxis_title='Weighted Rating',\n",
    "                  xaxis_tickangle=-45)  # Rotate x-axis labels for better readability\n",
    "\n",
    "# Show plot\n",
    "fig.show()\n"
   ]
  },
  {
   "cell_type": "code",
   "execution_count": 110,
   "id": "e013a566",
   "metadata": {
    "scrolled": true
   },
   "outputs": [
    {
     "data": {
      "application/vnd.plotly.v1+json": {
       "config": {
        "plotlyServerURL": "https://plot.ly"
       },
       "data": [
        {
         "alignmentgroup": "True",
         "hovertemplate": "Product ID=%{x}<br>Weighted Rating=%{y}<extra></extra>",
         "legendgroup": "",
         "marker": {
          "color": "#636efa",
          "pattern": {
           "shape": ""
          }
         },
         "name": "",
         "offsetgroup": "",
         "orientation": "v",
         "showlegend": false,
         "textposition": "auto",
         "type": "bar",
         "x": [
          "B0BR4F878Q",
          "B0B53DS4TF",
          "B0B23LW7NV",
          "B09WN3SRC7",
          "B01J1CFO5I",
          "B095RTJH1M",
          "B01MQ2A86A",
          "B00NFD0ETQ",
          "B07X2L5Z8C",
          "B00K57MR22"
         ],
         "xaxis": "x",
         "y": [
          4.787167067975575,
          4.6583232929624065,
          4.631281105623122,
          4.613008915106761,
          4.585384121108944,
          4.58176708423959,
          4.562371351496478,
          4.557203811757261,
          4.556807142659234,
          4.533339976988793
         ],
         "yaxis": "y"
        }
       ],
       "layout": {
        "barmode": "relative",
        "legend": {
         "tracegroupgap": 0
        },
        "template": {
         "data": {
          "bar": [
           {
            "error_x": {
             "color": "#2a3f5f"
            },
            "error_y": {
             "color": "#2a3f5f"
            },
            "marker": {
             "line": {
              "color": "#E5ECF6",
              "width": 0.5
             },
             "pattern": {
              "fillmode": "overlay",
              "size": 10,
              "solidity": 0.2
             }
            },
            "type": "bar"
           }
          ],
          "barpolar": [
           {
            "marker": {
             "line": {
              "color": "#E5ECF6",
              "width": 0.5
             },
             "pattern": {
              "fillmode": "overlay",
              "size": 10,
              "solidity": 0.2
             }
            },
            "type": "barpolar"
           }
          ],
          "carpet": [
           {
            "aaxis": {
             "endlinecolor": "#2a3f5f",
             "gridcolor": "white",
             "linecolor": "white",
             "minorgridcolor": "white",
             "startlinecolor": "#2a3f5f"
            },
            "baxis": {
             "endlinecolor": "#2a3f5f",
             "gridcolor": "white",
             "linecolor": "white",
             "minorgridcolor": "white",
             "startlinecolor": "#2a3f5f"
            },
            "type": "carpet"
           }
          ],
          "choropleth": [
           {
            "colorbar": {
             "outlinewidth": 0,
             "ticks": ""
            },
            "type": "choropleth"
           }
          ],
          "contour": [
           {
            "colorbar": {
             "outlinewidth": 0,
             "ticks": ""
            },
            "colorscale": [
             [
              0,
              "#0d0887"
             ],
             [
              0.1111111111111111,
              "#46039f"
             ],
             [
              0.2222222222222222,
              "#7201a8"
             ],
             [
              0.3333333333333333,
              "#9c179e"
             ],
             [
              0.4444444444444444,
              "#bd3786"
             ],
             [
              0.5555555555555556,
              "#d8576b"
             ],
             [
              0.6666666666666666,
              "#ed7953"
             ],
             [
              0.7777777777777778,
              "#fb9f3a"
             ],
             [
              0.8888888888888888,
              "#fdca26"
             ],
             [
              1,
              "#f0f921"
             ]
            ],
            "type": "contour"
           }
          ],
          "contourcarpet": [
           {
            "colorbar": {
             "outlinewidth": 0,
             "ticks": ""
            },
            "type": "contourcarpet"
           }
          ],
          "heatmap": [
           {
            "colorbar": {
             "outlinewidth": 0,
             "ticks": ""
            },
            "colorscale": [
             [
              0,
              "#0d0887"
             ],
             [
              0.1111111111111111,
              "#46039f"
             ],
             [
              0.2222222222222222,
              "#7201a8"
             ],
             [
              0.3333333333333333,
              "#9c179e"
             ],
             [
              0.4444444444444444,
              "#bd3786"
             ],
             [
              0.5555555555555556,
              "#d8576b"
             ],
             [
              0.6666666666666666,
              "#ed7953"
             ],
             [
              0.7777777777777778,
              "#fb9f3a"
             ],
             [
              0.8888888888888888,
              "#fdca26"
             ],
             [
              1,
              "#f0f921"
             ]
            ],
            "type": "heatmap"
           }
          ],
          "heatmapgl": [
           {
            "colorbar": {
             "outlinewidth": 0,
             "ticks": ""
            },
            "colorscale": [
             [
              0,
              "#0d0887"
             ],
             [
              0.1111111111111111,
              "#46039f"
             ],
             [
              0.2222222222222222,
              "#7201a8"
             ],
             [
              0.3333333333333333,
              "#9c179e"
             ],
             [
              0.4444444444444444,
              "#bd3786"
             ],
             [
              0.5555555555555556,
              "#d8576b"
             ],
             [
              0.6666666666666666,
              "#ed7953"
             ],
             [
              0.7777777777777778,
              "#fb9f3a"
             ],
             [
              0.8888888888888888,
              "#fdca26"
             ],
             [
              1,
              "#f0f921"
             ]
            ],
            "type": "heatmapgl"
           }
          ],
          "histogram": [
           {
            "marker": {
             "pattern": {
              "fillmode": "overlay",
              "size": 10,
              "solidity": 0.2
             }
            },
            "type": "histogram"
           }
          ],
          "histogram2d": [
           {
            "colorbar": {
             "outlinewidth": 0,
             "ticks": ""
            },
            "colorscale": [
             [
              0,
              "#0d0887"
             ],
             [
              0.1111111111111111,
              "#46039f"
             ],
             [
              0.2222222222222222,
              "#7201a8"
             ],
             [
              0.3333333333333333,
              "#9c179e"
             ],
             [
              0.4444444444444444,
              "#bd3786"
             ],
             [
              0.5555555555555556,
              "#d8576b"
             ],
             [
              0.6666666666666666,
              "#ed7953"
             ],
             [
              0.7777777777777778,
              "#fb9f3a"
             ],
             [
              0.8888888888888888,
              "#fdca26"
             ],
             [
              1,
              "#f0f921"
             ]
            ],
            "type": "histogram2d"
           }
          ],
          "histogram2dcontour": [
           {
            "colorbar": {
             "outlinewidth": 0,
             "ticks": ""
            },
            "colorscale": [
             [
              0,
              "#0d0887"
             ],
             [
              0.1111111111111111,
              "#46039f"
             ],
             [
              0.2222222222222222,
              "#7201a8"
             ],
             [
              0.3333333333333333,
              "#9c179e"
             ],
             [
              0.4444444444444444,
              "#bd3786"
             ],
             [
              0.5555555555555556,
              "#d8576b"
             ],
             [
              0.6666666666666666,
              "#ed7953"
             ],
             [
              0.7777777777777778,
              "#fb9f3a"
             ],
             [
              0.8888888888888888,
              "#fdca26"
             ],
             [
              1,
              "#f0f921"
             ]
            ],
            "type": "histogram2dcontour"
           }
          ],
          "mesh3d": [
           {
            "colorbar": {
             "outlinewidth": 0,
             "ticks": ""
            },
            "type": "mesh3d"
           }
          ],
          "parcoords": [
           {
            "line": {
             "colorbar": {
              "outlinewidth": 0,
              "ticks": ""
             }
            },
            "type": "parcoords"
           }
          ],
          "pie": [
           {
            "automargin": true,
            "type": "pie"
           }
          ],
          "scatter": [
           {
            "fillpattern": {
             "fillmode": "overlay",
             "size": 10,
             "solidity": 0.2
            },
            "type": "scatter"
           }
          ],
          "scatter3d": [
           {
            "line": {
             "colorbar": {
              "outlinewidth": 0,
              "ticks": ""
             }
            },
            "marker": {
             "colorbar": {
              "outlinewidth": 0,
              "ticks": ""
             }
            },
            "type": "scatter3d"
           }
          ],
          "scattercarpet": [
           {
            "marker": {
             "colorbar": {
              "outlinewidth": 0,
              "ticks": ""
             }
            },
            "type": "scattercarpet"
           }
          ],
          "scattergeo": [
           {
            "marker": {
             "colorbar": {
              "outlinewidth": 0,
              "ticks": ""
             }
            },
            "type": "scattergeo"
           }
          ],
          "scattergl": [
           {
            "marker": {
             "colorbar": {
              "outlinewidth": 0,
              "ticks": ""
             }
            },
            "type": "scattergl"
           }
          ],
          "scattermapbox": [
           {
            "marker": {
             "colorbar": {
              "outlinewidth": 0,
              "ticks": ""
             }
            },
            "type": "scattermapbox"
           }
          ],
          "scatterpolar": [
           {
            "marker": {
             "colorbar": {
              "outlinewidth": 0,
              "ticks": ""
             }
            },
            "type": "scatterpolar"
           }
          ],
          "scatterpolargl": [
           {
            "marker": {
             "colorbar": {
              "outlinewidth": 0,
              "ticks": ""
             }
            },
            "type": "scatterpolargl"
           }
          ],
          "scatterternary": [
           {
            "marker": {
             "colorbar": {
              "outlinewidth": 0,
              "ticks": ""
             }
            },
            "type": "scatterternary"
           }
          ],
          "surface": [
           {
            "colorbar": {
             "outlinewidth": 0,
             "ticks": ""
            },
            "colorscale": [
             [
              0,
              "#0d0887"
             ],
             [
              0.1111111111111111,
              "#46039f"
             ],
             [
              0.2222222222222222,
              "#7201a8"
             ],
             [
              0.3333333333333333,
              "#9c179e"
             ],
             [
              0.4444444444444444,
              "#bd3786"
             ],
             [
              0.5555555555555556,
              "#d8576b"
             ],
             [
              0.6666666666666666,
              "#ed7953"
             ],
             [
              0.7777777777777778,
              "#fb9f3a"
             ],
             [
              0.8888888888888888,
              "#fdca26"
             ],
             [
              1,
              "#f0f921"
             ]
            ],
            "type": "surface"
           }
          ],
          "table": [
           {
            "cells": {
             "fill": {
              "color": "#EBF0F8"
             },
             "line": {
              "color": "white"
             }
            },
            "header": {
             "fill": {
              "color": "#C8D4E3"
             },
             "line": {
              "color": "white"
             }
            },
            "type": "table"
           }
          ]
         },
         "layout": {
          "annotationdefaults": {
           "arrowcolor": "#2a3f5f",
           "arrowhead": 0,
           "arrowwidth": 1
          },
          "autotypenumbers": "strict",
          "coloraxis": {
           "colorbar": {
            "outlinewidth": 0,
            "ticks": ""
           }
          },
          "colorscale": {
           "diverging": [
            [
             0,
             "#8e0152"
            ],
            [
             0.1,
             "#c51b7d"
            ],
            [
             0.2,
             "#de77ae"
            ],
            [
             0.3,
             "#f1b6da"
            ],
            [
             0.4,
             "#fde0ef"
            ],
            [
             0.5,
             "#f7f7f7"
            ],
            [
             0.6,
             "#e6f5d0"
            ],
            [
             0.7,
             "#b8e186"
            ],
            [
             0.8,
             "#7fbc41"
            ],
            [
             0.9,
             "#4d9221"
            ],
            [
             1,
             "#276419"
            ]
           ],
           "sequential": [
            [
             0,
             "#0d0887"
            ],
            [
             0.1111111111111111,
             "#46039f"
            ],
            [
             0.2222222222222222,
             "#7201a8"
            ],
            [
             0.3333333333333333,
             "#9c179e"
            ],
            [
             0.4444444444444444,
             "#bd3786"
            ],
            [
             0.5555555555555556,
             "#d8576b"
            ],
            [
             0.6666666666666666,
             "#ed7953"
            ],
            [
             0.7777777777777778,
             "#fb9f3a"
            ],
            [
             0.8888888888888888,
             "#fdca26"
            ],
            [
             1,
             "#f0f921"
            ]
           ],
           "sequentialminus": [
            [
             0,
             "#0d0887"
            ],
            [
             0.1111111111111111,
             "#46039f"
            ],
            [
             0.2222222222222222,
             "#7201a8"
            ],
            [
             0.3333333333333333,
             "#9c179e"
            ],
            [
             0.4444444444444444,
             "#bd3786"
            ],
            [
             0.5555555555555556,
             "#d8576b"
            ],
            [
             0.6666666666666666,
             "#ed7953"
            ],
            [
             0.7777777777777778,
             "#fb9f3a"
            ],
            [
             0.8888888888888888,
             "#fdca26"
            ],
            [
             1,
             "#f0f921"
            ]
           ]
          },
          "colorway": [
           "#636efa",
           "#EF553B",
           "#00cc96",
           "#ab63fa",
           "#FFA15A",
           "#19d3f3",
           "#FF6692",
           "#B6E880",
           "#FF97FF",
           "#FECB52"
          ],
          "font": {
           "color": "#2a3f5f"
          },
          "geo": {
           "bgcolor": "white",
           "lakecolor": "white",
           "landcolor": "#E5ECF6",
           "showlakes": true,
           "showland": true,
           "subunitcolor": "white"
          },
          "hoverlabel": {
           "align": "left"
          },
          "hovermode": "closest",
          "mapbox": {
           "style": "light"
          },
          "paper_bgcolor": "white",
          "plot_bgcolor": "#E5ECF6",
          "polar": {
           "angularaxis": {
            "gridcolor": "white",
            "linecolor": "white",
            "ticks": ""
           },
           "bgcolor": "#E5ECF6",
           "radialaxis": {
            "gridcolor": "white",
            "linecolor": "white",
            "ticks": ""
           }
          },
          "scene": {
           "xaxis": {
            "backgroundcolor": "#E5ECF6",
            "gridcolor": "white",
            "gridwidth": 2,
            "linecolor": "white",
            "showbackground": true,
            "ticks": "",
            "zerolinecolor": "white"
           },
           "yaxis": {
            "backgroundcolor": "#E5ECF6",
            "gridcolor": "white",
            "gridwidth": 2,
            "linecolor": "white",
            "showbackground": true,
            "ticks": "",
            "zerolinecolor": "white"
           },
           "zaxis": {
            "backgroundcolor": "#E5ECF6",
            "gridcolor": "white",
            "gridwidth": 2,
            "linecolor": "white",
            "showbackground": true,
            "ticks": "",
            "zerolinecolor": "white"
           }
          },
          "shapedefaults": {
           "line": {
            "color": "#2a3f5f"
           }
          },
          "ternary": {
           "aaxis": {
            "gridcolor": "white",
            "linecolor": "white",
            "ticks": ""
           },
           "baxis": {
            "gridcolor": "white",
            "linecolor": "white",
            "ticks": ""
           },
           "bgcolor": "#E5ECF6",
           "caxis": {
            "gridcolor": "white",
            "linecolor": "white",
            "ticks": ""
           }
          },
          "title": {
           "x": 0.05
          },
          "xaxis": {
           "automargin": true,
           "gridcolor": "white",
           "linecolor": "white",
           "ticks": "",
           "title": {
            "standoff": 15
           },
           "zerolinecolor": "white",
           "zerolinewidth": 2
          },
          "yaxis": {
           "automargin": true,
           "gridcolor": "white",
           "linecolor": "white",
           "ticks": "",
           "title": {
            "standoff": 15
           },
           "zerolinecolor": "white",
           "zerolinewidth": 2
          }
         }
        },
        "title": {
         "text": "Top 10 Rated Products"
        },
        "xaxis": {
         "anchor": "y",
         "domain": [
          0,
          1
         ],
         "tickangle": -45,
         "title": {
          "text": "Product ID"
         }
        },
        "yaxis": {
         "anchor": "x",
         "domain": [
          0,
          1
         ],
         "title": {
          "text": "Weighted Rating"
         }
        }
       }
      },
      "text/html": [
       "<div>                            <div id=\"b8992323-c264-41b1-9d2e-2fa99bee4ac0\" class=\"plotly-graph-div\" style=\"height:525px; width:100%;\"></div>            <script type=\"text/javascript\">                require([\"plotly\"], function(Plotly) {                    window.PLOTLYENV=window.PLOTLYENV || {};                                    if (document.getElementById(\"b8992323-c264-41b1-9d2e-2fa99bee4ac0\")) {                    Plotly.newPlot(                        \"b8992323-c264-41b1-9d2e-2fa99bee4ac0\",                        [{\"alignmentgroup\":\"True\",\"hovertemplate\":\"Product ID=%{x}<br>Weighted Rating=%{y}<extra></extra>\",\"legendgroup\":\"\",\"marker\":{\"color\":\"#636efa\",\"pattern\":{\"shape\":\"\"}},\"name\":\"\",\"offsetgroup\":\"\",\"orientation\":\"v\",\"showlegend\":false,\"textposition\":\"auto\",\"x\":[\"B0BR4F878Q\",\"B0B53DS4TF\",\"B0B23LW7NV\",\"B09WN3SRC7\",\"B01J1CFO5I\",\"B095RTJH1M\",\"B01MQ2A86A\",\"B00NFD0ETQ\",\"B07X2L5Z8C\",\"B00K57MR22\"],\"xaxis\":\"x\",\"y\":[4.787167067975575,4.6583232929624065,4.631281105623122,4.613008915106761,4.585384121108944,4.58176708423959,4.562371351496478,4.557203811757261,4.556807142659234,4.533339976988793],\"yaxis\":\"y\",\"type\":\"bar\"}],                        {\"template\":{\"data\":{\"histogram2dcontour\":[{\"type\":\"histogram2dcontour\",\"colorbar\":{\"outlinewidth\":0,\"ticks\":\"\"},\"colorscale\":[[0.0,\"#0d0887\"],[0.1111111111111111,\"#46039f\"],[0.2222222222222222,\"#7201a8\"],[0.3333333333333333,\"#9c179e\"],[0.4444444444444444,\"#bd3786\"],[0.5555555555555556,\"#d8576b\"],[0.6666666666666666,\"#ed7953\"],[0.7777777777777778,\"#fb9f3a\"],[0.8888888888888888,\"#fdca26\"],[1.0,\"#f0f921\"]]}],\"choropleth\":[{\"type\":\"choropleth\",\"colorbar\":{\"outlinewidth\":0,\"ticks\":\"\"}}],\"histogram2d\":[{\"type\":\"histogram2d\",\"colorbar\":{\"outlinewidth\":0,\"ticks\":\"\"},\"colorscale\":[[0.0,\"#0d0887\"],[0.1111111111111111,\"#46039f\"],[0.2222222222222222,\"#7201a8\"],[0.3333333333333333,\"#9c179e\"],[0.4444444444444444,\"#bd3786\"],[0.5555555555555556,\"#d8576b\"],[0.6666666666666666,\"#ed7953\"],[0.7777777777777778,\"#fb9f3a\"],[0.8888888888888888,\"#fdca26\"],[1.0,\"#f0f921\"]]}],\"heatmap\":[{\"type\":\"heatmap\",\"colorbar\":{\"outlinewidth\":0,\"ticks\":\"\"},\"colorscale\":[[0.0,\"#0d0887\"],[0.1111111111111111,\"#46039f\"],[0.2222222222222222,\"#7201a8\"],[0.3333333333333333,\"#9c179e\"],[0.4444444444444444,\"#bd3786\"],[0.5555555555555556,\"#d8576b\"],[0.6666666666666666,\"#ed7953\"],[0.7777777777777778,\"#fb9f3a\"],[0.8888888888888888,\"#fdca26\"],[1.0,\"#f0f921\"]]}],\"heatmapgl\":[{\"type\":\"heatmapgl\",\"colorbar\":{\"outlinewidth\":0,\"ticks\":\"\"},\"colorscale\":[[0.0,\"#0d0887\"],[0.1111111111111111,\"#46039f\"],[0.2222222222222222,\"#7201a8\"],[0.3333333333333333,\"#9c179e\"],[0.4444444444444444,\"#bd3786\"],[0.5555555555555556,\"#d8576b\"],[0.6666666666666666,\"#ed7953\"],[0.7777777777777778,\"#fb9f3a\"],[0.8888888888888888,\"#fdca26\"],[1.0,\"#f0f921\"]]}],\"contourcarpet\":[{\"type\":\"contourcarpet\",\"colorbar\":{\"outlinewidth\":0,\"ticks\":\"\"}}],\"contour\":[{\"type\":\"contour\",\"colorbar\":{\"outlinewidth\":0,\"ticks\":\"\"},\"colorscale\":[[0.0,\"#0d0887\"],[0.1111111111111111,\"#46039f\"],[0.2222222222222222,\"#7201a8\"],[0.3333333333333333,\"#9c179e\"],[0.4444444444444444,\"#bd3786\"],[0.5555555555555556,\"#d8576b\"],[0.6666666666666666,\"#ed7953\"],[0.7777777777777778,\"#fb9f3a\"],[0.8888888888888888,\"#fdca26\"],[1.0,\"#f0f921\"]]}],\"surface\":[{\"type\":\"surface\",\"colorbar\":{\"outlinewidth\":0,\"ticks\":\"\"},\"colorscale\":[[0.0,\"#0d0887\"],[0.1111111111111111,\"#46039f\"],[0.2222222222222222,\"#7201a8\"],[0.3333333333333333,\"#9c179e\"],[0.4444444444444444,\"#bd3786\"],[0.5555555555555556,\"#d8576b\"],[0.6666666666666666,\"#ed7953\"],[0.7777777777777778,\"#fb9f3a\"],[0.8888888888888888,\"#fdca26\"],[1.0,\"#f0f921\"]]}],\"mesh3d\":[{\"type\":\"mesh3d\",\"colorbar\":{\"outlinewidth\":0,\"ticks\":\"\"}}],\"scatter\":[{\"fillpattern\":{\"fillmode\":\"overlay\",\"size\":10,\"solidity\":0.2},\"type\":\"scatter\"}],\"parcoords\":[{\"type\":\"parcoords\",\"line\":{\"colorbar\":{\"outlinewidth\":0,\"ticks\":\"\"}}}],\"scatterpolargl\":[{\"type\":\"scatterpolargl\",\"marker\":{\"colorbar\":{\"outlinewidth\":0,\"ticks\":\"\"}}}],\"bar\":[{\"error_x\":{\"color\":\"#2a3f5f\"},\"error_y\":{\"color\":\"#2a3f5f\"},\"marker\":{\"line\":{\"color\":\"#E5ECF6\",\"width\":0.5},\"pattern\":{\"fillmode\":\"overlay\",\"size\":10,\"solidity\":0.2}},\"type\":\"bar\"}],\"scattergeo\":[{\"type\":\"scattergeo\",\"marker\":{\"colorbar\":{\"outlinewidth\":0,\"ticks\":\"\"}}}],\"scatterpolar\":[{\"type\":\"scatterpolar\",\"marker\":{\"colorbar\":{\"outlinewidth\":0,\"ticks\":\"\"}}}],\"histogram\":[{\"marker\":{\"pattern\":{\"fillmode\":\"overlay\",\"size\":10,\"solidity\":0.2}},\"type\":\"histogram\"}],\"scattergl\":[{\"type\":\"scattergl\",\"marker\":{\"colorbar\":{\"outlinewidth\":0,\"ticks\":\"\"}}}],\"scatter3d\":[{\"type\":\"scatter3d\",\"line\":{\"colorbar\":{\"outlinewidth\":0,\"ticks\":\"\"}},\"marker\":{\"colorbar\":{\"outlinewidth\":0,\"ticks\":\"\"}}}],\"scattermapbox\":[{\"type\":\"scattermapbox\",\"marker\":{\"colorbar\":{\"outlinewidth\":0,\"ticks\":\"\"}}}],\"scatterternary\":[{\"type\":\"scatterternary\",\"marker\":{\"colorbar\":{\"outlinewidth\":0,\"ticks\":\"\"}}}],\"scattercarpet\":[{\"type\":\"scattercarpet\",\"marker\":{\"colorbar\":{\"outlinewidth\":0,\"ticks\":\"\"}}}],\"carpet\":[{\"aaxis\":{\"endlinecolor\":\"#2a3f5f\",\"gridcolor\":\"white\",\"linecolor\":\"white\",\"minorgridcolor\":\"white\",\"startlinecolor\":\"#2a3f5f\"},\"baxis\":{\"endlinecolor\":\"#2a3f5f\",\"gridcolor\":\"white\",\"linecolor\":\"white\",\"minorgridcolor\":\"white\",\"startlinecolor\":\"#2a3f5f\"},\"type\":\"carpet\"}],\"table\":[{\"cells\":{\"fill\":{\"color\":\"#EBF0F8\"},\"line\":{\"color\":\"white\"}},\"header\":{\"fill\":{\"color\":\"#C8D4E3\"},\"line\":{\"color\":\"white\"}},\"type\":\"table\"}],\"barpolar\":[{\"marker\":{\"line\":{\"color\":\"#E5ECF6\",\"width\":0.5},\"pattern\":{\"fillmode\":\"overlay\",\"size\":10,\"solidity\":0.2}},\"type\":\"barpolar\"}],\"pie\":[{\"automargin\":true,\"type\":\"pie\"}]},\"layout\":{\"autotypenumbers\":\"strict\",\"colorway\":[\"#636efa\",\"#EF553B\",\"#00cc96\",\"#ab63fa\",\"#FFA15A\",\"#19d3f3\",\"#FF6692\",\"#B6E880\",\"#FF97FF\",\"#FECB52\"],\"font\":{\"color\":\"#2a3f5f\"},\"hovermode\":\"closest\",\"hoverlabel\":{\"align\":\"left\"},\"paper_bgcolor\":\"white\",\"plot_bgcolor\":\"#E5ECF6\",\"polar\":{\"bgcolor\":\"#E5ECF6\",\"angularaxis\":{\"gridcolor\":\"white\",\"linecolor\":\"white\",\"ticks\":\"\"},\"radialaxis\":{\"gridcolor\":\"white\",\"linecolor\":\"white\",\"ticks\":\"\"}},\"ternary\":{\"bgcolor\":\"#E5ECF6\",\"aaxis\":{\"gridcolor\":\"white\",\"linecolor\":\"white\",\"ticks\":\"\"},\"baxis\":{\"gridcolor\":\"white\",\"linecolor\":\"white\",\"ticks\":\"\"},\"caxis\":{\"gridcolor\":\"white\",\"linecolor\":\"white\",\"ticks\":\"\"}},\"coloraxis\":{\"colorbar\":{\"outlinewidth\":0,\"ticks\":\"\"}},\"colorscale\":{\"sequential\":[[0.0,\"#0d0887\"],[0.1111111111111111,\"#46039f\"],[0.2222222222222222,\"#7201a8\"],[0.3333333333333333,\"#9c179e\"],[0.4444444444444444,\"#bd3786\"],[0.5555555555555556,\"#d8576b\"],[0.6666666666666666,\"#ed7953\"],[0.7777777777777778,\"#fb9f3a\"],[0.8888888888888888,\"#fdca26\"],[1.0,\"#f0f921\"]],\"sequentialminus\":[[0.0,\"#0d0887\"],[0.1111111111111111,\"#46039f\"],[0.2222222222222222,\"#7201a8\"],[0.3333333333333333,\"#9c179e\"],[0.4444444444444444,\"#bd3786\"],[0.5555555555555556,\"#d8576b\"],[0.6666666666666666,\"#ed7953\"],[0.7777777777777778,\"#fb9f3a\"],[0.8888888888888888,\"#fdca26\"],[1.0,\"#f0f921\"]],\"diverging\":[[0,\"#8e0152\"],[0.1,\"#c51b7d\"],[0.2,\"#de77ae\"],[0.3,\"#f1b6da\"],[0.4,\"#fde0ef\"],[0.5,\"#f7f7f7\"],[0.6,\"#e6f5d0\"],[0.7,\"#b8e186\"],[0.8,\"#7fbc41\"],[0.9,\"#4d9221\"],[1,\"#276419\"]]},\"xaxis\":{\"gridcolor\":\"white\",\"linecolor\":\"white\",\"ticks\":\"\",\"title\":{\"standoff\":15},\"zerolinecolor\":\"white\",\"automargin\":true,\"zerolinewidth\":2},\"yaxis\":{\"gridcolor\":\"white\",\"linecolor\":\"white\",\"ticks\":\"\",\"title\":{\"standoff\":15},\"zerolinecolor\":\"white\",\"automargin\":true,\"zerolinewidth\":2},\"scene\":{\"xaxis\":{\"backgroundcolor\":\"#E5ECF6\",\"gridcolor\":\"white\",\"linecolor\":\"white\",\"showbackground\":true,\"ticks\":\"\",\"zerolinecolor\":\"white\",\"gridwidth\":2},\"yaxis\":{\"backgroundcolor\":\"#E5ECF6\",\"gridcolor\":\"white\",\"linecolor\":\"white\",\"showbackground\":true,\"ticks\":\"\",\"zerolinecolor\":\"white\",\"gridwidth\":2},\"zaxis\":{\"backgroundcolor\":\"#E5ECF6\",\"gridcolor\":\"white\",\"linecolor\":\"white\",\"showbackground\":true,\"ticks\":\"\",\"zerolinecolor\":\"white\",\"gridwidth\":2}},\"shapedefaults\":{\"line\":{\"color\":\"#2a3f5f\"}},\"annotationdefaults\":{\"arrowcolor\":\"#2a3f5f\",\"arrowhead\":0,\"arrowwidth\":1},\"geo\":{\"bgcolor\":\"white\",\"landcolor\":\"#E5ECF6\",\"subunitcolor\":\"white\",\"showland\":true,\"showlakes\":true,\"lakecolor\":\"white\"},\"title\":{\"x\":0.05},\"mapbox\":{\"style\":\"light\"}}},\"xaxis\":{\"anchor\":\"y\",\"domain\":[0.0,1.0],\"title\":{\"text\":\"Product ID\"},\"tickangle\":-45},\"yaxis\":{\"anchor\":\"x\",\"domain\":[0.0,1.0],\"title\":{\"text\":\"Weighted Rating\"}},\"legend\":{\"tracegroupgap\":0},\"title\":{\"text\":\"Top 10 Rated Products\"},\"barmode\":\"relative\"},                        {\"responsive\": true}                    ).then(function(){\n",
       "                            \n",
       "var gd = document.getElementById('b8992323-c264-41b1-9d2e-2fa99bee4ac0');\n",
       "var x = new MutationObserver(function (mutations, observer) {{\n",
       "        var display = window.getComputedStyle(gd).display;\n",
       "        if (!display || display === 'none') {{\n",
       "            console.log([gd, 'removed!']);\n",
       "            Plotly.purge(gd);\n",
       "            observer.disconnect();\n",
       "        }}\n",
       "}});\n",
       "\n",
       "// Listen for the removal of the full notebook cells\n",
       "var notebookContainer = gd.closest('#notebook-container');\n",
       "if (notebookContainer) {{\n",
       "    x.observe(notebookContainer, {childList: true});\n",
       "}}\n",
       "\n",
       "// Listen for the clearing of the current output cell\n",
       "var outputEl = gd.closest('.output');\n",
       "if (outputEl) {{\n",
       "    x.observe(outputEl, {childList: true});\n",
       "}}\n",
       "\n",
       "                        })                };                });            </script>        </div>"
      ]
     },
     "metadata": {},
     "output_type": "display_data"
    }
   ],
   "source": [
    "import plotly.express as px\n",
    "\n",
    "# Set minimum number of ratings required to be considered\n",
    "m = 1000  # Adjust this value as per your requirement\n",
    "\n",
    "# Calculate mean rating across all products\n",
    "C = df['rating'].mean()\n",
    "\n",
    "# Calculate the weighted rating for each product\n",
    "df['weighted_rating'] = (df['rating_count'] / (df['rating_count'] + m)) * df['rating'] + (m / (df['rating_count'] + m)) * C\n",
    "\n",
    "# Sort the products based on their weighted rating in descending order\n",
    "top_rated_products = df.sort_values(by='weighted_rating', ascending=False)\n",
    "\n",
    "# Select the top 10 rated products\n",
    "top_10_rated_products = top_rated_products.head(10)\n",
    "\n",
    "# Create a bar chart using Plotly Express\n",
    "fig = px.bar(top_10_rated_products, x='product_id', y='weighted_rating',\n",
    "             title='Top 10 Rated Products', labels={'product_id': 'Product ID', 'weighted_rating': 'Weighted Rating'})\n",
    "\n",
    "# Rotate x-axis labels for better readability\n",
    "fig.update_layout(xaxis_tickangle=-45)\n",
    "\n",
    "# Show plot\n",
    "fig.show()\n"
   ]
  },
  {
   "cell_type": "code",
   "execution_count": 111,
   "id": "f4eb5032",
   "metadata": {},
   "outputs": [
    {
     "data": {
      "image/png": "[encoded data removed]",
      "text/plain": [
       "<Figure size 1000x600 with 1 Axes>"
      ]
     },
     "metadata": {},
     "output_type": "display_data"
    }
   ],
   "source": [
    "import matplotlib.pyplot as plt\n",
    "\n",
    "# Sort the top 10 rated products by their weighted rating\n",
    "top_10_rated_products = top_rated_products.head(10)\n",
    "\n",
    "# Create a bar plot using Matplotlib\n",
    "plt.figure(figsize=(10, 6))\n",
    "plt.bar(top_10_rated_products['product_id'], top_10_rated_products['weighted_rating'], color='skyblue')\n",
    "plt.title('Top 10 Rated Products')\n",
    "plt.xlabel('Product ID')\n",
    "plt.ylabel('Weighted Rating')\n",
    "plt.xticks(rotation=45)\n",
    "plt.tight_layout()\n",
    "plt.show()\n"
   ]
  },
  {
   "cell_type": "code",
   "execution_count": 112,
   "id": "eebcea8a",
   "metadata": {},
   "outputs": [
    {
     "data": {
      "image/png": "[encoded data removed]",
      "text/plain": [
       "<Figure size 1000x600 with 1 Axes>"
      ]
     },
     "metadata": {},
     "output_type": "display_data"
    }
   ],
   "source": [
    "import seaborn as sns\n",
    "import matplotlib.pyplot as plt\n",
    "\n",
    "# Sort the top 10 rated products by their weighted rating\n",
    "top_10_rated_products = top_rated_products.head(10)\n",
    "\n",
    "# Create a bar plot using Seaborn\n",
    "plt.figure(figsize=(10, 6))\n",
    "sns.barplot(data=top_10_rated_products, x='product_id', y='weighted_rating', color='skyblue')\n",
    "plt.title('Top 10 Rated Products')\n",
    "plt.xlabel('Product ID')\n",
    "plt.ylabel('Weighted Rating')\n",
    "plt.xticks(rotation=45)\n",
    "plt.tight_layout()\n",
    "plt.show()\n"
   ]
  },
  {
   "cell_type": "code",
   "execution_count": 59,
   "id": "02839e6d",
   "metadata": {},
   "outputs": [
    {
     "data": {
      "text/plain": [
       "category\n",
       "Car&Motorbike|CarAccessories|InteriorAccessories|AirPurifiers&Ionizers                                                    3.800000\n",
       "Computers&Accessories|Accessories&Peripherals|Adapters|USBtoUSBAdapters                                                   4.150000\n",
       "Computers&Accessories|Accessories&Peripherals|Audio&VideoAccessories|PCHeadsets                                           3.500000\n",
       "Computers&Accessories|Accessories&Peripherals|Audio&VideoAccessories|PCMicrophones                                        3.600000\n",
       "Computers&Accessories|Accessories&Peripherals|Audio&VideoAccessories|PCSpeakers                                           4.050000\n",
       "                                                                                                                            ...   \n",
       "OfficeProducts|OfficePaperProducts|Paper|Stationery|Pens,Pencils&WritingSupplies|Pens&Refills|GelInkRollerballPens        4.250000\n",
       "OfficeProducts|OfficePaperProducts|Paper|Stationery|Pens,Pencils&WritingSupplies|Pens&Refills|LiquidInkRollerballPens     4.150000\n",
       "OfficeProducts|OfficePaperProducts|Paper|Stationery|Pens,Pencils&WritingSupplies|Pens&Refills|RetractableBallpointPens    4.300000\n",
       "OfficeProducts|OfficePaperProducts|Paper|Stationery|Pens,Pencils&WritingSupplies|Pens&Refills|StickBallpointPens          4.133333\n",
       "Toys&Games|Arts&Crafts|Drawing&PaintingSupplies|ColouringPens&Markers                                                     4.300000\n",
       "Name: rating, Length: 211, dtype: float64"
      ]
     },
     "execution_count": 59,
     "metadata": {},
     "output_type": "execute_result"
    }
   ],
   "source": [
    "df.groupby('category')['rating'].agg('mean')"
   ]
  },
  {
   "cell_type": "code",
   "execution_count": 61,
   "id": "eca8c02c",
   "metadata": {},
   "outputs": [
    {
     "name": "stdout",
     "output_type": "stream",
     "text": [
      "Top 5 categories with the best average discounts:\n",
      "category\n",
      "Computers&Accessories|Accessories&Peripherals|Cables&Accessories|CableConnectionProtectors                       90.0\n",
      "Electronics|Headphones,Earbuds&Accessories|Earpads                                                               90.0\n",
      "Electronics|Mobiles&Accessories|MobileAccessories|Décor|PhoneCharms                                              90.0\n",
      "Electronics|Headphones,Earbuds&Accessories|Adapters                                                              88.0\n",
      "Computers&Accessories|Accessories&Peripherals|Keyboards,Mice&InputDevices|Keyboard&MiceAccessories|DustCovers    87.5\n",
      "Name: discount_percentage, dtype: float64\n",
      "\n",
      "Top 5 categories with the best average ratings:\n",
      "category\n",
      "Computers&Accessories|Tablets                                               4.6\n",
      "Computers&Accessories|Components|Memory                                     4.5\n",
      "Computers&Accessories|NetworkingDevices|NetworkAdapters|PowerLANAdapters    4.5\n",
      "Electronics|Cameras&Photography|Accessories|Film                            4.5\n",
      "Electronics|HomeAudio|MediaStreamingDevices|StreamingClients                4.5\n",
      "Name: rating, dtype: float64\n"
     ]
    }
   ],
   "source": [
    "# Calculate the mean discount percentage for each category\n",
    "category_discount_mean = df.groupby('category')['discount_percentage'].mean()\n",
    "\n",
    "# Calculate the mean rating for each category\n",
    "category_rating_mean = df.groupby('category')['rating'].mean()\n",
    "\n",
    "# Sort the categories based on average discount percentage and average rating in descending order\n",
    "top_discount_categories = category_discount_mean.nlargest(5)\n",
    "top_rating_categories = category_rating_mean.nlargest(5)\n",
    "\n",
    "# Print the top 5 categories with the best average discounts\n",
    "print(\"Top 5 categories with the best average discounts:\")\n",
    "print(top_discount_categories)\n",
    "\n",
    "# Print the top 5 categories with the best average ratings\n",
    "print(\"\\nTop 5 categories with the best average ratings:\")\n",
    "print(top_rating_categories)\n"
   ]
  },
  {
   "cell_type": "code",
   "execution_count": 64,
   "id": "a7e8a2ec",
   "metadata": {},
   "outputs": [
    {
     "data": {
      "text/plain": [
       "Computers&Accessories|Accessories&Peripherals|Cables&Accessories|Cables|USBCables                        231\n",
       "Electronics|WearableTechnology|SmartWatches                                                               76\n",
       "Electronics|Mobiles&Accessories|Smartphones&BasicMobiles|Smartphones                                      68\n",
       "Electronics|HomeTheater,TV&Video|Televisions|SmartTelevisions                                             63\n",
       "Electronics|Headphones,Earbuds&Accessories|Headphones|In-Ear                                              52\n",
       "Electronics|HomeTheater,TV&Video|Accessories|RemoteControls                                               49\n",
       "Home&Kitchen|Kitchen&HomeAppliances|SmallKitchenAppliances|MixerGrinders                                  27\n",
       "Electronics|HomeTheater,TV&Video|Accessories|Cables|HDMICables                                            24\n",
       "Home&Kitchen|Kitchen&HomeAppliances|Vacuum,Cleaning&Ironing|Irons,Steamers&Accessories|Irons|DryIrons     24\n",
       "Computers&Accessories|Accessories&Peripherals|Keyboards,Mice&InputDevices|Mice                            24\n",
       "Name: category, dtype: int64"
      ]
     },
     "execution_count": 64,
     "metadata": {},
     "output_type": "execute_result"
    }
   ],
   "source": [
    "# Count the number of products in each category\n",
    "category_counts = df['category'].value_counts()\n",
    "category_counts.head(10)"
   ]
  },
  {
   "cell_type": "code",
   "execution_count": 66,
   "id": "077a1a83",
   "metadata": {},
   "outputs": [
    {
     "name": "stdout",
     "output_type": "stream",
     "text": [
      "Category-wise discount for categories with at least 10 products (in decreasing order of discount):\n"
     ]
    },
    {
     "data": {
      "text/plain": [
       "category\n",
       "Electronics|Mobiles&Accessories|MobileAccessories|Stands                                                    76.400000\n",
       "Electronics|WearableTechnology|SmartWatches                                                                 69.815789\n",
       "Computers&Accessories|Accessories&Peripherals|Keyboards,Mice&InputDevices|GraphicTablets                    60.818182\n",
       "Electronics|HomeTheater,TV&Video|Accessories|Cables|HDMICables                                              59.791667\n",
       "Electronics|HomeTheater,TV&Video|Accessories|RemoteControls                                                 59.510204\n",
       "Computers&Accessories|Accessories&Peripherals|Cables&Accessories|Cables|USBCables                           59.220779\n",
       "Computers&Accessories|Accessories&Peripherals|LaptopAccessories|Lapdesks                                    58.928571\n",
       "Electronics|Accessories|MemoryCards|MicroSD                                                                 58.846154\n",
       "Electronics|Headphones,Earbuds&Accessories|Headphones|In-Ear                                                58.269231\n",
       "Computers&Accessories|ExternalDevices&DataStorage|PenDrives                                                 56.900000\n",
       "Home&Kitchen|Kitchen&HomeAppliances|SmallKitchenAppliances|DigitalKitchenScales                             53.900000\n",
       "Home&Kitchen|Kitchen&HomeAppliances|SmallKitchenAppliances|EggBoilers                                       52.909091\n",
       "Electronics|Mobiles&Accessories|MobileAccessories|Chargers|WallChargers                                     51.437500\n",
       "Home&Kitchen|Kitchen&HomeAppliances|Vacuum,Cleaning&Ironing|Irons,Steamers&Accessories|LintShavers          51.318182\n",
       "Computers&Accessories|NetworkingDevices|NetworkAdapters|WirelessUSBAdapters                                 49.111111\n",
       "Home&Kitchen|Heating,Cooling&AirQuality|WaterHeaters&Geysers|InstantWaterHeaters                            48.043478\n",
       "Home&Kitchen|Heating,Cooling&AirQuality|WaterHeaters&Geysers|StorageWaterHeaters                            45.083333\n",
       "Home&Kitchen|Kitchen&HomeAppliances|SmallKitchenAppliances|InductionCooktop                                 44.900000\n",
       "Home&Kitchen|HomeStorage&Organization|LaundryOrganization|LaundryBaskets                                    44.846154\n",
       "Home&Kitchen|Kitchen&HomeAppliances|SmallKitchenAppliances|Kettles&HotWaterDispensers|Kettle&ToasterSets    44.230769\n",
       "Home&Kitchen|Kitchen&HomeAppliances|SmallKitchenAppliances|JuicerMixerGrinders                              44.166667\n",
       "Home&Kitchen|Kitchen&HomeAppliances|SmallKitchenAppliances|MixerGrinders                                    43.962963\n",
       "Home&Kitchen|Kitchen&HomeAppliances|WaterPurifiers&Accessories|WaterFilters&Purifiers                       42.500000\n",
       "Home&Kitchen|Heating,Cooling&AirQuality|RoomHeaters|FanHeaters                                              42.450000\n",
       "Computers&Accessories|Accessories&Peripherals|Keyboards,Mice&InputDevices|Mice                              42.041667\n",
       "Home&Kitchen|Kitchen&HomeAppliances|SmallKitchenAppliances|HandBlenders                                     41.684211\n",
       "Home&Kitchen|Kitchen&HomeAppliances|WaterPurifiers&Accessories|WaterPurifierAccessories                     40.818182\n",
       "Home&Kitchen|Kitchen&HomeAppliances|SmallKitchenAppliances|Kettles&HotWaterDispensers|ElectricKettles       39.000000\n",
       "Electronics|HomeTheater,TV&Video|Televisions|SmartTelevisions                                               38.285714\n",
       "Home&Kitchen|Heating,Cooling&AirQuality|Fans|CeilingFans                                                    38.181818\n",
       "Electronics|Mobiles&Accessories|MobileAccessories|Chargers|PowerBanks                                       38.000000\n",
       "Home&Kitchen|Heating,Cooling&AirQuality|RoomHeaters|ElectricHeaters                                         36.000000\n",
       "Home&Kitchen|Kitchen&HomeAppliances|Vacuum,Cleaning&Ironing|Irons,Steamers&Accessories|Irons|DryIrons       34.250000\n",
       "Home&Kitchen|Kitchen&HomeAppliances|SmallKitchenAppliances|SandwichMakers                                   32.363636\n",
       "Computers&Accessories|Accessories&Peripherals|Keyboards,Mice&InputDevices|Keyboard&MouseSets                32.100000\n",
       "Home&Kitchen|Kitchen&HomeAppliances|Vacuum,Cleaning&Ironing|Irons,Steamers&Accessories|Irons|SteamIrons     23.833333\n",
       "Electronics|Mobiles&Accessories|Smartphones&BasicMobiles|Smartphones                                        23.294118\n",
       "Name: discount_percentage, dtype: float64"
      ]
     },
     "execution_count": 66,
     "metadata": {},
     "output_type": "execute_result"
    }
   ],
   "source": [
    "# Calculate the count of products in each category\n",
    "category_counts = df['category'].value_counts()\n",
    "\n",
    "# Filter categories with at least 10 products\n",
    "categories_with_10_or_more_products = category_counts[category_counts >= 10].index\n",
    "\n",
    "# Filter the DataFrame to include only categories with at least 10 products\n",
    "df_filtered = df[df['category'].isin(categories_with_10_or_more_products)]\n",
    "\n",
    "# Calculate the mean discount percentage for each category\n",
    "category_discount_mean = df_filtered.groupby('category')['discount_percentage'].mean()\n",
    "\n",
    "# Sort the category-wise discount in descending order\n",
    "category_discount_mean_sorted = category_discount_mean.sort_values(ascending=False)\n",
    "\n",
    "# Print the category-wise discount for categories with at least 10 products in decreasing order of discount\n",
    "print(\"Category-wise discount for categories with at least 10 products (in decreasing order of discount):\")\n",
    "category_discount_mean_sorted"
   ]
  },
  {
   "cell_type": "code",
   "execution_count": 67,
   "id": "6315183d",
   "metadata": {},
   "outputs": [
    {
     "name": "stdout",
     "output_type": "stream",
     "text": [
      "Category-wise rating for categories with at least 10 products (in decreasing order of rating):\n",
      "category\n",
      "Electronics|Accessories|MemoryCards|MicroSD                                                                 4.330769\n",
      "Home&Kitchen|Kitchen&HomeAppliances|SmallKitchenAppliances|EggBoilers                                       4.290909\n",
      "Computers&Accessories|Accessories&Peripherals|Keyboards,Mice&InputDevices|Mice                              4.287500\n",
      "Computers&Accessories|ExternalDevices&DataStorage|PenDrives                                                 4.260000\n",
      "Electronics|HomeTheater,TV&Video|Accessories|Cables|HDMICables                                              4.254167\n",
      "Electronics|HomeTheater,TV&Video|Televisions|SmartTelevisions                                               4.209524\n",
      "Home&Kitchen|Kitchen&HomeAppliances|WaterPurifiers&Accessories|WaterFilters&Purifiers                       4.175000\n",
      "Electronics|Mobiles&Accessories|MobileAccessories|Stands                                                    4.160000\n",
      "Computers&Accessories|Accessories&Peripherals|Cables&Accessories|Cables|USBCables                           4.153247\n",
      "Electronics|Mobiles&Accessories|MobileAccessories|Chargers|WallChargers                                     4.143750\n",
      "Home&Kitchen|Heating,Cooling&AirQuality|WaterHeaters&Geysers|StorageWaterHeaters                            4.141667\n",
      "Home&Kitchen|Kitchen&HomeAppliances|Vacuum,Cleaning&Ironing|Irons,Steamers&Accessories|Irons|DryIrons       4.129167\n",
      "Electronics|Mobiles&Accessories|MobileAccessories|Chargers|PowerBanks                                       4.125000\n",
      "Home&Kitchen|Heating,Cooling&AirQuality|Fans|CeilingFans                                                    4.109091\n",
      "Home&Kitchen|Kitchen&HomeAppliances|SmallKitchenAppliances|SandwichMakers                                   4.100000\n",
      "Electronics|Mobiles&Accessories|Smartphones&BasicMobiles|Smartphones                                        4.100000\n",
      "Computers&Accessories|NetworkingDevices|NetworkAdapters|WirelessUSBAdapters                                 4.094444\n",
      "Home&Kitchen|Kitchen&HomeAppliances|SmallKitchenAppliances|DigitalKitchenScales                             4.080000\n",
      "Computers&Accessories|Accessories&Peripherals|LaptopAccessories|Lapdesks                                    4.064286\n",
      "Home&Kitchen|Kitchen&HomeAppliances|SmallKitchenAppliances|HandBlenders                                     4.057895\n",
      "Home&Kitchen|Heating,Cooling&AirQuality|WaterHeaters&Geysers|InstantWaterHeaters                            4.052174\n",
      "Home&Kitchen|Kitchen&HomeAppliances|SmallKitchenAppliances|InductionCooktop                                 4.050000\n",
      "Computers&Accessories|Accessories&Peripherals|Keyboards,Mice&InputDevices|Keyboard&MouseSets                4.050000\n",
      "Home&Kitchen|Kitchen&HomeAppliances|Vacuum,Cleaning&Ironing|Irons,Steamers&Accessories|LintShavers          4.036364\n",
      "Home&Kitchen|Kitchen&HomeAppliances|Vacuum,Cleaning&Ironing|Irons,Steamers&Accessories|Irons|SteamIrons     4.033333\n",
      "Home&Kitchen|Kitchen&HomeAppliances|SmallKitchenAppliances|Kettles&HotWaterDispensers|ElectricKettles       4.031579\n",
      "Electronics|WearableTechnology|SmartWatches                                                                 4.025000\n",
      "Home&Kitchen|Kitchen&HomeAppliances|SmallKitchenAppliances|MixerGrinders                                    4.011111\n",
      "Home&Kitchen|HomeStorage&Organization|LaundryOrganization|LaundryBaskets                                    3.992308\n",
      "Computers&Accessories|Accessories&Peripherals|Keyboards,Mice&InputDevices|GraphicTablets                    3.981818\n",
      "Home&Kitchen|Kitchen&HomeAppliances|SmallKitchenAppliances|Kettles&HotWaterDispensers|Kettle&ToasterSets    3.961538\n",
      "Home&Kitchen|Kitchen&HomeAppliances|WaterPurifiers&Accessories|WaterPurifierAccessories                     3.918182\n",
      "Electronics|Headphones,Earbuds&Accessories|Headphones|In-Ear                                                3.898077\n",
      "Home&Kitchen|Kitchen&HomeAppliances|SmallKitchenAppliances|JuicerMixerGrinders                              3.891667\n",
      "Home&Kitchen|Heating,Cooling&AirQuality|RoomHeaters|ElectricHeaters                                         3.890000\n",
      "Home&Kitchen|Heating,Cooling&AirQuality|RoomHeaters|FanHeaters                                              3.810000\n",
      "Electronics|HomeTheater,TV&Video|Accessories|RemoteControls                                                 3.800000\n",
      "Name: rating, dtype: float64\n"
     ]
    }
   ],
   "source": [
    "# Calculate the count of products in each category\n",
    "category_counts = df['category'].value_counts()\n",
    "\n",
    "# Filter categories with at least 10 products\n",
    "categories_with_10_or_more_products = category_counts[category_counts >= 10].index\n",
    "\n",
    "# Filter the DataFrame to include only categories with at least 10 products\n",
    "df_filtered = df[df['category'].isin(categories_with_10_or_more_products)]\n",
    "\n",
    "# Calculate the mean rating for each category\n",
    "category_rating_mean = df_filtered.groupby('category')['rating'].mean()\n",
    "\n",
    "# Sort the category-wise rating in descending order\n",
    "category_rating_mean_sorted = category_rating_mean.sort_values(ascending=False)\n",
    "\n",
    "# Print the category-wise rating for categories with at least 10 products in decreasing order of rating\n",
    "print(\"Category-wise rating for categories with at least 10 products (in decreasing order of rating):\")\n",
    "print(category_rating_mean_sorted)\n"
   ]
  },
  {
   "cell_type": "code",
   "execution_count": 69,
   "id": "ee337c5a",
   "metadata": {},
   "outputs": [
    {
     "name": "stdout",
     "output_type": "stream",
     "text": [
      "Category-wise average prices for categories with at least 10 products (in decreasing order of prices):\n",
      "category\n",
      "Electronics|HomeTheater,TV&Video|Televisions|SmartTelevisions                                               40132.841270\n",
      "Electronics|Mobiles&Accessories|Smartphones&BasicMobiles|Smartphones                                        20593.397059\n",
      "Home&Kitchen|Kitchen&HomeAppliances|WaterPurifiers&Accessories|WaterFilters&Purifiers                       15618.833333\n",
      "Home&Kitchen|Heating,Cooling&AirQuality|WaterHeaters&Geysers|StorageWaterHeaters                            11738.166667\n",
      "Electronics|WearableTechnology|SmartWatches                                                                  8554.763158\n",
      "Home&Kitchen|Kitchen&HomeAppliances|SmallKitchenAppliances|MixerGrinders                                     5289.592593\n",
      "Home&Kitchen|Heating,Cooling&AirQuality|WaterHeaters&Geysers|InstantWaterHeaters                             4563.347826\n",
      "Home&Kitchen|Kitchen&HomeAppliances|SmallKitchenAppliances|JuicerMixerGrinders                               4466.333333\n",
      "Home&Kitchen|Heating,Cooling&AirQuality|RoomHeaters|FanHeaters                                               4236.250000\n",
      "Home&Kitchen|Kitchen&HomeAppliances|Vacuum,Cleaning&Ironing|Irons,Steamers&Accessories|Irons|SteamIrons      4139.083333\n",
      "Home&Kitchen|Kitchen&HomeAppliances|SmallKitchenAppliances|InductionCooktop                                  3765.700000\n",
      "Home&Kitchen|Heating,Cooling&AirQuality|Fans|CeilingFans                                                     3349.909091\n",
      "Home&Kitchen|Heating,Cooling&AirQuality|RoomHeaters|ElectricHeaters                                          3280.000000\n",
      "Electronics|Headphones,Earbuds&Accessories|Headphones|In-Ear                                                 2960.076923\n",
      "Electronics|Mobiles&Accessories|MobileAccessories|Chargers|PowerBanks                                        2524.000000\n",
      "Home&Kitchen|Kitchen&HomeAppliances|SmallKitchenAppliances|SandwichMakers                                    2358.454545\n",
      "Electronics|Accessories|MemoryCards|MicroSD                                                                  2169.000000\n",
      "Computers&Accessories|Accessories&Peripherals|LaptopAccessories|Lapdesks                                     1945.428571\n",
      "Home&Kitchen|Kitchen&HomeAppliances|SmallKitchenAppliances|Kettles&HotWaterDispensers|ElectricKettles        1846.684211\n",
      "Computers&Accessories|Accessories&Peripherals|Keyboards,Mice&InputDevices|Keyboard&MouseSets                 1777.600000\n",
      "Home&Kitchen|Kitchen&HomeAppliances|SmallKitchenAppliances|Kettles&HotWaterDispensers|Kettle&ToasterSets     1772.076923\n",
      "Home&Kitchen|Kitchen&HomeAppliances|SmallKitchenAppliances|EggBoilers                                        1678.909091\n",
      "Computers&Accessories|ExternalDevices&DataStorage|PenDrives                                                  1660.000000\n",
      "Home&Kitchen|Kitchen&HomeAppliances|SmallKitchenAppliances|HandBlenders                                      1570.842105\n",
      "Home&Kitchen|Kitchen&HomeAppliances|SmallKitchenAppliances|DigitalKitchenScales                              1568.000000\n",
      "Computers&Accessories|NetworkingDevices|NetworkAdapters|WirelessUSBAdapters                                  1388.444444\n",
      "Computers&Accessories|Accessories&Peripherals|Keyboards,Mice&InputDevices|GraphicTablets                     1320.818182\n",
      "Electronics|Mobiles&Accessories|MobileAccessories|Chargers|WallChargers                                      1218.562500\n",
      "Home&Kitchen|Kitchen&HomeAppliances|Vacuum,Cleaning&Ironing|Irons,Steamers&Accessories|Irons|DryIrons        1179.500000\n",
      "Electronics|HomeTheater,TV&Video|Accessories|Cables|HDMICables                                               1175.250000\n",
      "Electronics|HomeTheater,TV&Video|Accessories|RemoteControls                                                  1170.448980\n",
      "Home&Kitchen|Kitchen&HomeAppliances|Vacuum,Cleaning&Ironing|Irons,Steamers&Accessories|LintShavers           1061.636364\n",
      "Computers&Accessories|Accessories&Peripherals|Keyboards,Mice&InputDevices|Mice                               1055.791667\n",
      "Computers&Accessories|Accessories&Peripherals|Cables&Accessories|Cables|USBCables                             905.217835\n",
      "Electronics|Mobiles&Accessories|MobileAccessories|Stands                                                      809.000000\n",
      "Home&Kitchen|HomeStorage&Organization|LaundryOrganization|LaundryBaskets                                      763.076923\n",
      "Home&Kitchen|Kitchen&HomeAppliances|WaterPurifiers&Accessories|WaterPurifierAccessories                       743.545455\n",
      "Name: actual_price, dtype: float64\n"
     ]
    }
   ],
   "source": [
    "# Calculate the count of products in each category\n",
    "category_counts = df['category'].value_counts()\n",
    "\n",
    "# Filter categories with at least 10 products\n",
    "categories_with_10_or_more_products = category_counts[category_counts >= 10].index\n",
    "\n",
    "# Filter the DataFrame to include only categories with at least 10 products\n",
    "df_filtered = df[df['category'].isin(categories_with_10_or_more_products)]\n",
    "\n",
    "# Calculate the average prices for each category\n",
    "category_avg_prices = df_filtered.groupby('category')['actual_price'].mean()\n",
    "\n",
    "# Sort the category-wise average prices in descending order\n",
    "category_avg_prices_sorted = category_avg_prices.sort_values(ascending=False)\n",
    "\n",
    "# Print the category-wise average prices for categories with at least 10 products in decreasing order of prices\n",
    "print(\"Category-wise average prices for categories with at least 10 products (in decreasing order of prices):\")\n",
    "print(category_avg_prices_sorted)\n"
   ]
  },
  {
   "cell_type": "code",
   "execution_count": 71,
   "id": "e6a20245",
   "metadata": {},
   "outputs": [
    {
     "name": "stdout",
     "output_type": "stream",
     "text": [
      "Correlation matrix:\n"
     ]
    },
    {
     "name": "stderr",
     "output_type": "stream",
     "text": [
      "C:\\Users\\sajal\\AppData\\Local\\Temp\\ipykernel_16868\\3567992873.py:2: FutureWarning: The default value of numeric_only in DataFrame.corr is deprecated. In a future version, it will default to False. Select only valid columns or specify the value of numeric_only to silence this warning.\n",
      "  correlation_matrix = df.corr()\n"
     ]
    },
    {
     "data": {
      "text/html": [
       "<div>\n",
       "<style scoped>\n",
       "    .dataframe tbody tr th:only-of-type {\n",
       "        vertical-align: middle;\n",
       "    }\n",
       "\n",
       "    .dataframe tbody tr th {\n",
       "        vertical-align: top;\n",
       "    }\n",
       "\n",
       "    .dataframe thead th {\n",
       "        text-align: right;\n",
       "    }\n",
       "</style>\n",
       "<table border=\"1\" class=\"dataframe\">\n",
       "  <thead>\n",
       "    <tr style=\"text-align: right;\">\n",
       "      <th></th>\n",
       "      <th>discounted_price</th>\n",
       "      <th>actual_price</th>\n",
       "      <th>discount_percentage</th>\n",
       "      <th>rating</th>\n",
       "      <th>rating_count</th>\n",
       "      <th>weighted_rating</th>\n",
       "    </tr>\n",
       "  </thead>\n",
       "  <tbody>\n",
       "    <tr>\n",
       "      <th>discounted_price</th>\n",
       "      <td>1.000000</td>\n",
       "      <td>0.961910</td>\n",
       "      <td>-0.242298</td>\n",
       "      <td>0.121132</td>\n",
       "      <td>-0.027304</td>\n",
       "      <td>0.118651</td>\n",
       "    </tr>\n",
       "    <tr>\n",
       "      <th>actual_price</th>\n",
       "      <td>0.961910</td>\n",
       "      <td>1.000000</td>\n",
       "      <td>-0.117855</td>\n",
       "      <td>0.122467</td>\n",
       "      <td>-0.036215</td>\n",
       "      <td>0.114486</td>\n",
       "    </tr>\n",
       "    <tr>\n",
       "      <th>discount_percentage</th>\n",
       "      <td>-0.242298</td>\n",
       "      <td>-0.117855</td>\n",
       "      <td>1.000000</td>\n",
       "      <td>-0.155679</td>\n",
       "      <td>0.011294</td>\n",
       "      <td>-0.165254</td>\n",
       "    </tr>\n",
       "    <tr>\n",
       "      <th>rating</th>\n",
       "      <td>0.121132</td>\n",
       "      <td>0.122467</td>\n",
       "      <td>-0.155679</td>\n",
       "      <td>1.000000</td>\n",
       "      <td>0.102235</td>\n",
       "      <td>0.824744</td>\n",
       "    </tr>\n",
       "    <tr>\n",
       "      <th>rating_count</th>\n",
       "      <td>-0.027304</td>\n",
       "      <td>-0.036215</td>\n",
       "      <td>0.011294</td>\n",
       "      <td>0.102235</td>\n",
       "      <td>1.000000</td>\n",
       "      <td>0.111765</td>\n",
       "    </tr>\n",
       "    <tr>\n",
       "      <th>weighted_rating</th>\n",
       "      <td>0.118651</td>\n",
       "      <td>0.114486</td>\n",
       "      <td>-0.165254</td>\n",
       "      <td>0.824744</td>\n",
       "      <td>0.111765</td>\n",
       "      <td>1.000000</td>\n",
       "    </tr>\n",
       "  </tbody>\n",
       "</table>\n",
       "</div>"
      ],
      "text/plain": [
       "                     discounted_price  actual_price  discount_percentage  \\\n",
       "discounted_price             1.000000      0.961910            -0.242298   \n",
       "actual_price                 0.961910      1.000000            -0.117855   \n",
       "discount_percentage         -0.242298     -0.117855             1.000000   \n",
       "rating                       0.121132      0.122467            -0.155679   \n",
       "rating_count                -0.027304     -0.036215             0.011294   \n",
       "weighted_rating              0.118651      0.114486            -0.165254   \n",
       "\n",
       "                       rating  rating_count  weighted_rating  \n",
       "discounted_price     0.121132     -0.027304         0.118651  \n",
       "actual_price         0.122467     -0.036215         0.114486  \n",
       "discount_percentage -0.155679      0.011294        -0.165254  \n",
       "rating               1.000000      0.102235         0.824744  \n",
       "rating_count         0.102235      1.000000         0.111765  \n",
       "weighted_rating      0.824744      0.111765         1.000000  "
      ]
     },
     "execution_count": 71,
     "metadata": {},
     "output_type": "execute_result"
    }
   ],
   "source": [
    "# Calculate the correlation matrix for all columns\n",
    "correlation_matrix = df.corr()\n",
    "\n",
    "# Print the correlation matrix\n",
    "print(\"Correlation matrix:\")\n",
    "correlation_matrix\n"
   ]
  },
  {
   "cell_type": "code",
   "execution_count": 72,
   "id": "aa247bb3",
   "metadata": {},
   "outputs": [
    {
     "name": "stderr",
     "output_type": "stream",
     "text": [
      "C:\\Users\\sajal\\AppData\\Local\\Temp\\ipykernel_16868\\4204165707.py:5: FutureWarning: The default value of numeric_only in DataFrame.corr is deprecated. In a future version, it will default to False. Select only valid columns or specify the value of numeric_only to silence this warning.\n",
      "  correlation_matrix = df.corr()\n"
     ]
    },
    {
     "data": {
      "image/png": "[encoded data removed]",
      "text/plain": [
       "<Figure size 1000x800 with 2 Axes>"
      ]
     },
     "metadata": {},
     "output_type": "display_data"
    }
   ],
   "source": [
    "import seaborn as sns\n",
    "import matplotlib.pyplot as plt\n",
    "\n",
    "# Calculate the correlation matrix for all columns\n",
    "correlation_matrix = df.corr()\n",
    "\n",
    "# Set up the matplotlib figure\n",
    "plt.figure(figsize=(10, 8))\n",
    "\n",
    "# Create a heatmap using seaborn\n",
    "sns.heatmap(correlation_matrix, annot=True, cmap='coolwarm', fmt=\".2f\")\n",
    "\n",
    "# Add title and adjust layout\n",
    "plt.title('Correlation Heatmap')\n",
    "plt.tight_layout()\n",
    "\n",
    "# Show the plot\n",
    "plt.show()\n"
   ]
  },
  {
   "cell_type": "markdown",
   "id": "4dec7eae",
   "metadata": {},
   "source": [
    "The correlation matrix reveals key relationships among variables. Strong positive correlations exist between discounted and actual prices, as well as between rating and weighted rating. Moderate negative correlation is observed between discounted price and discount percentage. Weak correlations are found between discount percentage and rating, and between rating and rating count. These insights aid in understanding the interplay of pricing and rating dynamics in the dataset."
   ]
  },
  {
   "cell_type": "code",
   "execution_count": 76,
   "id": "ac53898d",
   "metadata": {},
   "outputs": [
    {
     "name": "stdout",
     "output_type": "stream",
     "text": [
      "Top 10 most costly products:\n"
     ]
    },
    {
     "data": {
      "text/html": [
       "<div>\n",
       "<style scoped>\n",
       "    .dataframe tbody tr th:only-of-type {\n",
       "        vertical-align: middle;\n",
       "    }\n",
       "\n",
       "    .dataframe tbody tr th {\n",
       "        vertical-align: top;\n",
       "    }\n",
       "\n",
       "    .dataframe thead th {\n",
       "        text-align: right;\n",
       "    }\n",
       "</style>\n",
       "<table border=\"1\" class=\"dataframe\">\n",
       "  <thead>\n",
       "    <tr style=\"text-align: right;\">\n",
       "      <th></th>\n",
       "      <th>product_id</th>\n",
       "      <th>product_name</th>\n",
       "      <th>category</th>\n",
       "      <th>discounted_price</th>\n",
       "      <th>actual_price</th>\n",
       "      <th>discount_percentage</th>\n",
       "      <th>rating</th>\n",
       "      <th>rating_count</th>\n",
       "      <th>about_product</th>\n",
       "      <th>user_id</th>\n",
       "      <th>user_name</th>\n",
       "      <th>review_id</th>\n",
       "      <th>review_title</th>\n",
       "      <th>review_content</th>\n",
       "      <th>weighted_rating</th>\n",
       "    </tr>\n",
       "  </thead>\n",
       "  <tbody>\n",
       "    <tr>\n",
       "      <th>249</th>\n",
       "      <td>B09WN3SRC7</td>\n",
       "      <td>Sony Bravia 164 cm (65 inches) 4K Ultra HD Sma...</td>\n",
       "      <td>Electronics|HomeTheater,TV&amp;Video|Televisions|S...</td>\n",
       "      <td>77990.0</td>\n",
       "      <td>139900.0</td>\n",
       "      <td>44.0</td>\n",
       "      <td>4.7</td>\n",
       "      <td>5935</td>\n",
       "      <td>Resolution: 4K Ultra HD (3840 x 2160) | Refres...</td>\n",
       "      <td>AF6Z2OYIXRPZJHVYN2MFKKYHPHFQ,AH5SAORYVUN5MGIBL...</td>\n",
       "      <td>David P.,Dr. ATUL THAKUR,Shriniwas Patil,Tahir...</td>\n",
       "      <td>R16HCZ0W1TRSMM,R12J7UKQ0FX3O9,R8729SR7LQFUU,R1...</td>\n",
       "      <td>Product installation was excellent  but delive...</td>\n",
       "      <td>The delivery people were not careful with the ...</td>\n",
       "      <td>4.613009</td>\n",
       "    </tr>\n",
       "    <tr>\n",
       "      <th>325</th>\n",
       "      <td>B095JPKPH3</td>\n",
       "      <td>OnePlus 163.8 cm (65 inches) U Series 4K LED S...</td>\n",
       "      <td>Electronics|HomeTheater,TV&amp;Video|Televisions|S...</td>\n",
       "      <td>61999.0</td>\n",
       "      <td>69999.0</td>\n",
       "      <td>11.0</td>\n",
       "      <td>4.1</td>\n",
       "      <td>6753</td>\n",
       "      <td>Resolution: 4K Ultra HD (3840x2160) | Refresh ...</td>\n",
       "      <td>AG3QTVXT2ODRVKOQJJRDV5KA2F2A,AGEYM57JOHPNX77ZY...</td>\n",
       "      <td>Rashmi,Raghvendra,Hari Prasad P,Vishnu singh,T...</td>\n",
       "      <td>R2PF9QV9JEQO9K,R2NEN86P63G4ES,R302B7X6H0GIC0,R...</td>\n",
       "      <td>Almost Perfect!,Review After using 1month,Nice...</td>\n",
       "      <td>Update after 9 months of use:1. The TV is stil...</td>\n",
       "      <td>4.099577</td>\n",
       "    </tr>\n",
       "    <tr>\n",
       "      <th>255</th>\n",
       "      <td>B0BC8BQ432</td>\n",
       "      <td>VU 164 cm (65 inches) The GloLED Series 4K Sma...</td>\n",
       "      <td>Electronics|HomeTheater,TV&amp;Video|Televisions|S...</td>\n",
       "      <td>54990.0</td>\n",
       "      <td>85000.0</td>\n",
       "      <td>35.0</td>\n",
       "      <td>4.3</td>\n",
       "      <td>3587</td>\n",
       "      <td>Resolution: 4K Ultra HD (3840x2160) | Refresh ...</td>\n",
       "      <td>AHY6AK5LXBTGXDDXSU57ISMDW55Q,AGULFHMPCHCL32WCI...</td>\n",
       "      <td>UtdBuzz,Mukund Nagvenkar,S.R K.,Pruthvi Raj Goud</td>\n",
       "      <td>R2G4T57OLXDVPL,R3IQ8PWVTWENBY,RH6UHEBP622FT,R3...</td>\n",
       "      <td>Good TV for the price. (But my experience was ...</td>\n",
       "      <td>,Screen quality is good.It's been a month I bo...</td>\n",
       "      <td>4.255683</td>\n",
       "    </tr>\n",
       "    <tr>\n",
       "      <th>192</th>\n",
       "      <td>B0B15GSPQW</td>\n",
       "      <td>Samsung 138 cm (55 inches) Crystal 4K Neo Seri...</td>\n",
       "      <td>Electronics|HomeTheater,TV&amp;Video|Televisions|S...</td>\n",
       "      <td>47990.0</td>\n",
       "      <td>70900.0</td>\n",
       "      <td>32.0</td>\n",
       "      <td>4.3</td>\n",
       "      <td>7109</td>\n",
       "      <td>Resolution : Crystal 4K Ultra HD (3840 x 2160)...</td>\n",
       "      <td>AHDIDVECFGA6OQRNUBPUO6366UGQ,AFSII6HTAHTHGXERU...</td>\n",
       "      <td>Binu,Sabjan,Ramkapil,User,Amazon Customer,gane...</td>\n",
       "      <td>R3RUBB6REUGTT,R281851EB9L5G6,R4ATJJVUY9JO6,R18...</td>\n",
       "      <td>Best(Branded) Budget TV,A high-quality 4k Smar...</td>\n",
       "      <td>Before finalizing the AUE60 55\", I visited Cro...</td>\n",
       "      <td>4.274931</td>\n",
       "    </tr>\n",
       "    <tr>\n",
       "      <th>283</th>\n",
       "      <td>B0B3XXSB1K</td>\n",
       "      <td>LG 139 cm (55 inches) 4K Ultra HD Smart LED TV...</td>\n",
       "      <td>Electronics|HomeTheater,TV&amp;Video|Televisions|S...</td>\n",
       "      <td>47990.0</td>\n",
       "      <td>79990.0</td>\n",
       "      <td>40.0</td>\n",
       "      <td>4.3</td>\n",
       "      <td>1376</td>\n",
       "      <td>Resolution: 4K Ultra HD (3840x2160) | Refresh ...</td>\n",
       "      <td>AFCWL3MX7BP2ZUDD37MEAENZDQ2A,AGGFXDLCFZMTLJJDR...</td>\n",
       "      <td>Raj Mohammed,Samson,Haroon sayeed,P Imran Khan...</td>\n",
       "      <td>RC3ZLDRM8GA9T,RMDN4PSDM8SKK,R1YFAMDJ7P0SY3,R2W...</td>\n",
       "      <td>Love Amazon but lg is misleading,Amazing produ...</td>\n",
       "      <td>There's no magic remote and lg should include ...</td>\n",
       "      <td>4.214443</td>\n",
       "    </tr>\n",
       "  </tbody>\n",
       "</table>\n",
       "</div>"
      ],
      "text/plain": [
       "     product_id                                       product_name  \\\n",
       "249  B09WN3SRC7  Sony Bravia 164 cm (65 inches) 4K Ultra HD Sma...   \n",
       "325  B095JPKPH3  OnePlus 163.8 cm (65 inches) U Series 4K LED S...   \n",
       "255  B0BC8BQ432  VU 164 cm (65 inches) The GloLED Series 4K Sma...   \n",
       "192  B0B15GSPQW  Samsung 138 cm (55 inches) Crystal 4K Neo Seri...   \n",
       "283  B0B3XXSB1K  LG 139 cm (55 inches) 4K Ultra HD Smart LED TV...   \n",
       "\n",
       "                                              category  discounted_price  \\\n",
       "249  Electronics|HomeTheater,TV&Video|Televisions|S...           77990.0   \n",
       "325  Electronics|HomeTheater,TV&Video|Televisions|S...           61999.0   \n",
       "255  Electronics|HomeTheater,TV&Video|Televisions|S...           54990.0   \n",
       "192  Electronics|HomeTheater,TV&Video|Televisions|S...           47990.0   \n",
       "283  Electronics|HomeTheater,TV&Video|Televisions|S...           47990.0   \n",
       "\n",
       "     actual_price  discount_percentage  rating  rating_count  \\\n",
       "249      139900.0                 44.0     4.7          5935   \n",
       "325       69999.0                 11.0     4.1          6753   \n",
       "255       85000.0                 35.0     4.3          3587   \n",
       "192       70900.0                 32.0     4.3          7109   \n",
       "283       79990.0                 40.0     4.3          1376   \n",
       "\n",
       "                                         about_product  \\\n",
       "249  Resolution: 4K Ultra HD (3840 x 2160) | Refres...   \n",
       "325  Resolution: 4K Ultra HD (3840x2160) | Refresh ...   \n",
       "255  Resolution: 4K Ultra HD (3840x2160) | Refresh ...   \n",
       "192  Resolution : Crystal 4K Ultra HD (3840 x 2160)...   \n",
       "283  Resolution: 4K Ultra HD (3840x2160) | Refresh ...   \n",
       "\n",
       "                                               user_id  \\\n",
       "249  AF6Z2OYIXRPZJHVYN2MFKKYHPHFQ,AH5SAORYVUN5MGIBL...   \n",
       "325  AG3QTVXT2ODRVKOQJJRDV5KA2F2A,AGEYM57JOHPNX77ZY...   \n",
       "255  AHY6AK5LXBTGXDDXSU57ISMDW55Q,AGULFHMPCHCL32WCI...   \n",
       "192  AHDIDVECFGA6OQRNUBPUO6366UGQ,AFSII6HTAHTHGXERU...   \n",
       "283  AFCWL3MX7BP2ZUDD37MEAENZDQ2A,AGGFXDLCFZMTLJJDR...   \n",
       "\n",
       "                                             user_name  \\\n",
       "249  David P.,Dr. ATUL THAKUR,Shriniwas Patil,Tahir...   \n",
       "325  Rashmi,Raghvendra,Hari Prasad P,Vishnu singh,T...   \n",
       "255   UtdBuzz,Mukund Nagvenkar,S.R K.,Pruthvi Raj Goud   \n",
       "192  Binu,Sabjan,Ramkapil,User,Amazon Customer,gane...   \n",
       "283  Raj Mohammed,Samson,Haroon sayeed,P Imran Khan...   \n",
       "\n",
       "                                             review_id  \\\n",
       "249  R16HCZ0W1TRSMM,R12J7UKQ0FX3O9,R8729SR7LQFUU,R1...   \n",
       "325  R2PF9QV9JEQO9K,R2NEN86P63G4ES,R302B7X6H0GIC0,R...   \n",
       "255  R2G4T57OLXDVPL,R3IQ8PWVTWENBY,RH6UHEBP622FT,R3...   \n",
       "192  R3RUBB6REUGTT,R281851EB9L5G6,R4ATJJVUY9JO6,R18...   \n",
       "283  RC3ZLDRM8GA9T,RMDN4PSDM8SKK,R1YFAMDJ7P0SY3,R2W...   \n",
       "\n",
       "                                          review_title  \\\n",
       "249  Product installation was excellent  but delive...   \n",
       "325  Almost Perfect!,Review After using 1month,Nice...   \n",
       "255  Good TV for the price. (But my experience was ...   \n",
       "192  Best(Branded) Budget TV,A high-quality 4k Smar...   \n",
       "283  Love Amazon but lg is misleading,Amazing produ...   \n",
       "\n",
       "                                        review_content  weighted_rating  \n",
       "249  The delivery people were not careful with the ...         4.613009  \n",
       "325  Update after 9 months of use:1. The TV is stil...         4.099577  \n",
       "255  ,Screen quality is good.It's been a month I bo...         4.255683  \n",
       "192  Before finalizing the AUE60 55\", I visited Cro...         4.274931  \n",
       "283  There's no magic remote and lg should include ...         4.214443  "
      ]
     },
     "execution_count": 76,
     "metadata": {},
     "output_type": "execute_result"
    }
   ],
   "source": [
    "# Sort the DataFrame by 'actual_price' column in descending order\n",
    "top_10_costly_products = df.sort_values(by='discounted_price', ascending=False).head(10)\n",
    "\n",
    "# Display the top 10 most costly products\n",
    "print(\"Top 10 most costly products:\")\n",
    "top_10_costly_products.head()"
   ]
  },
  {
   "cell_type": "code",
   "execution_count": 77,
   "id": "72d0bf11",
   "metadata": {},
   "outputs": [
    {
     "name": "stdout",
     "output_type": "stream",
     "text": [
      "Top 10 most costly products:\n"
     ]
    },
    {
     "data": {
      "text/html": [
       "<div>\n",
       "<style scoped>\n",
       "    .dataframe tbody tr th:only-of-type {\n",
       "        vertical-align: middle;\n",
       "    }\n",
       "\n",
       "    .dataframe tbody tr th {\n",
       "        vertical-align: top;\n",
       "    }\n",
       "\n",
       "    .dataframe thead th {\n",
       "        text-align: right;\n",
       "    }\n",
       "</style>\n",
       "<table border=\"1\" class=\"dataframe\">\n",
       "  <thead>\n",
       "    <tr style=\"text-align: right;\">\n",
       "      <th></th>\n",
       "      <th>product_id</th>\n",
       "      <th>product_name</th>\n",
       "      <th>category</th>\n",
       "      <th>discounted_price</th>\n",
       "      <th>actual_price</th>\n",
       "      <th>discount_percentage</th>\n",
       "      <th>rating</th>\n",
       "      <th>rating_count</th>\n",
       "      <th>about_product</th>\n",
       "      <th>user_id</th>\n",
       "      <th>user_name</th>\n",
       "      <th>review_id</th>\n",
       "      <th>review_title</th>\n",
       "      <th>review_content</th>\n",
       "      <th>weighted_rating</th>\n",
       "    </tr>\n",
       "  </thead>\n",
       "  <tbody>\n",
       "    <tr>\n",
       "      <th>695</th>\n",
       "      <td>B097C564GC</td>\n",
       "      <td>rts [2 Pack] Mini USB C Type C Adapter Plug, T...</td>\n",
       "      <td>Computers&amp;Accessories|Accessories&amp;Peripherals|...</td>\n",
       "      <td>294.0</td>\n",
       "      <td>4999.0</td>\n",
       "      <td>94.0</td>\n",
       "      <td>4.3</td>\n",
       "      <td>4426</td>\n",
       "      <td>【WIDER COMPATIBILITY】This USB C Female to USB ...</td>\n",
       "      <td>AGO5SRT3ESLNL5WTRQFD5BSIYPQA,AGGNODUMRADB3PQQT...</td>\n",
       "      <td>Naga Sai Gadagottu,Neha Sharma,Amazon Customer...</td>\n",
       "      <td>R3CUNCZTU43JPP,RSO46BN8S4OSU,R2UD5D7T4DZRE5,R2...</td>\n",
       "      <td>Tiny helping hand,Good product,As a whole good...</td>\n",
       "      <td>This eliminates the need to buy chargers for t...</td>\n",
       "      <td>4.262535</td>\n",
       "    </tr>\n",
       "    <tr>\n",
       "      <th>372</th>\n",
       "      <td>B0BF4YBLPX</td>\n",
       "      <td>Fire-Boltt Ninja Call Pro Plus 1.83\" Smart Wat...</td>\n",
       "      <td>Electronics|WearableTechnology|SmartWatches</td>\n",
       "      <td>1799.0</td>\n",
       "      <td>19999.0</td>\n",
       "      <td>91.0</td>\n",
       "      <td>4.2</td>\n",
       "      <td>13937</td>\n",
       "      <td>Fire-Boltt is India' No 1 Wearable Watch Brand...</td>\n",
       "      <td>AEC6UDCEAUIBIFHGQDQ4KR67GC4A,AHRKSUOZXKKDERRY3...</td>\n",
       "      <td>venkatesh kg,Raghuram,YOGESH,Manan Parmar,Niku...</td>\n",
       "      <td>R1PKIMKR1E8X8T,R23UV7ZBIEEZD3,RYRHNVDKS5RFY,RS...</td>\n",
       "      <td>Worth the money,Good smart watch,the screen do...</td>\n",
       "      <td>I liked it, worth the money, light weight and ...</td>\n",
       "      <td>4.193085</td>\n",
       "    </tr>\n",
       "    <tr>\n",
       "      <th>380</th>\n",
       "      <td>B0BF54LXW6</td>\n",
       "      <td>Fire-Boltt Ninja Call Pro Plus 1.83\" Smart Wat...</td>\n",
       "      <td>Electronics|WearableTechnology|SmartWatches</td>\n",
       "      <td>1799.0</td>\n",
       "      <td>19999.0</td>\n",
       "      <td>91.0</td>\n",
       "      <td>4.2</td>\n",
       "      <td>13937</td>\n",
       "      <td>Fire-Boltt is India' No 1 Wearable Watch Brand...</td>\n",
       "      <td>AEC6UDCEAUIBIFHGQDQ4KR67GC4A,AHRKSUOZXKKDERRY3...</td>\n",
       "      <td>venkatesh kg,Raghuram,YOGESH,Manan Parmar,Niku...</td>\n",
       "      <td>R1PKIMKR1E8X8T,R23UV7ZBIEEZD3,RYRHNVDKS5RFY,RS...</td>\n",
       "      <td>Worth the money,Good smart watch,the screen do...</td>\n",
       "      <td>I liked it, worth the money, light weight and ...</td>\n",
       "      <td>4.193085</td>\n",
       "    </tr>\n",
       "    <tr>\n",
       "      <th>368</th>\n",
       "      <td>B0BF563HB4</td>\n",
       "      <td>Fire-Boltt Ninja Call Pro Plus 1.83\" Smart Wat...</td>\n",
       "      <td>Electronics|WearableTechnology|SmartWatches</td>\n",
       "      <td>1799.0</td>\n",
       "      <td>19999.0</td>\n",
       "      <td>91.0</td>\n",
       "      <td>4.2</td>\n",
       "      <td>13937</td>\n",
       "      <td>Fire-Boltt is India' No 1 Wearable Watch Brand...</td>\n",
       "      <td>AEC6UDCEAUIBIFHGQDQ4KR67GC4A,AHRKSUOZXKKDERRY3...</td>\n",
       "      <td>venkatesh kg,Raghuram,YOGESH,Manan Parmar,Niku...</td>\n",
       "      <td>R1PKIMKR1E8X8T,R23UV7ZBIEEZD3,RYRHNVDKS5RFY,RS...</td>\n",
       "      <td>Worth the money,Good smart watch,the screen do...</td>\n",
       "      <td>I liked it, worth the money, light weight and ...</td>\n",
       "      <td>4.193085</td>\n",
       "    </tr>\n",
       "    <tr>\n",
       "      <th>364</th>\n",
       "      <td>B0BF54972T</td>\n",
       "      <td>Fire-Boltt Ninja Call Pro Plus 1.83\" Smart Wat...</td>\n",
       "      <td>Electronics|WearableTechnology|SmartWatches</td>\n",
       "      <td>1799.0</td>\n",
       "      <td>19999.0</td>\n",
       "      <td>91.0</td>\n",
       "      <td>4.2</td>\n",
       "      <td>13937</td>\n",
       "      <td>Fire-Boltt is India' No 1 Wearable Watch Brand...</td>\n",
       "      <td>AEC6UDCEAUIBIFHGQDQ4KR67GC4A,AHRKSUOZXKKDERRY3...</td>\n",
       "      <td>venkatesh kg,Raghuram,YOGESH,Manan Parmar,Niku...</td>\n",
       "      <td>R1PKIMKR1E8X8T,R23UV7ZBIEEZD3,RYRHNVDKS5RFY,RS...</td>\n",
       "      <td>Worth the money,Good smart watch,the screen do...</td>\n",
       "      <td>I liked it, worth the money, light weight and ...</td>\n",
       "      <td>4.193085</td>\n",
       "    </tr>\n",
       "  </tbody>\n",
       "</table>\n",
       "</div>"
      ],
      "text/plain": [
       "     product_id                                       product_name  \\\n",
       "695  B097C564GC  rts [2 Pack] Mini USB C Type C Adapter Plug, T...   \n",
       "372  B0BF4YBLPX  Fire-Boltt Ninja Call Pro Plus 1.83\" Smart Wat...   \n",
       "380  B0BF54LXW6  Fire-Boltt Ninja Call Pro Plus 1.83\" Smart Wat...   \n",
       "368  B0BF563HB4  Fire-Boltt Ninja Call Pro Plus 1.83\" Smart Wat...   \n",
       "364  B0BF54972T  Fire-Boltt Ninja Call Pro Plus 1.83\" Smart Wat...   \n",
       "\n",
       "                                              category  discounted_price  \\\n",
       "695  Computers&Accessories|Accessories&Peripherals|...             294.0   \n",
       "372        Electronics|WearableTechnology|SmartWatches            1799.0   \n",
       "380        Electronics|WearableTechnology|SmartWatches            1799.0   \n",
       "368        Electronics|WearableTechnology|SmartWatches            1799.0   \n",
       "364        Electronics|WearableTechnology|SmartWatches            1799.0   \n",
       "\n",
       "     actual_price  discount_percentage  rating  rating_count  \\\n",
       "695        4999.0                 94.0     4.3          4426   \n",
       "372       19999.0                 91.0     4.2         13937   \n",
       "380       19999.0                 91.0     4.2         13937   \n",
       "368       19999.0                 91.0     4.2         13937   \n",
       "364       19999.0                 91.0     4.2         13937   \n",
       "\n",
       "                                         about_product  \\\n",
       "695  【WIDER COMPATIBILITY】This USB C Female to USB ...   \n",
       "372  Fire-Boltt is India' No 1 Wearable Watch Brand...   \n",
       "380  Fire-Boltt is India' No 1 Wearable Watch Brand...   \n",
       "368  Fire-Boltt is India' No 1 Wearable Watch Brand...   \n",
       "364  Fire-Boltt is India' No 1 Wearable Watch Brand...   \n",
       "\n",
       "                                               user_id  \\\n",
       "695  AGO5SRT3ESLNL5WTRQFD5BSIYPQA,AGGNODUMRADB3PQQT...   \n",
       "372  AEC6UDCEAUIBIFHGQDQ4KR67GC4A,AHRKSUOZXKKDERRY3...   \n",
       "380  AEC6UDCEAUIBIFHGQDQ4KR67GC4A,AHRKSUOZXKKDERRY3...   \n",
       "368  AEC6UDCEAUIBIFHGQDQ4KR67GC4A,AHRKSUOZXKKDERRY3...   \n",
       "364  AEC6UDCEAUIBIFHGQDQ4KR67GC4A,AHRKSUOZXKKDERRY3...   \n",
       "\n",
       "                                             user_name  \\\n",
       "695  Naga Sai Gadagottu,Neha Sharma,Amazon Customer...   \n",
       "372  venkatesh kg,Raghuram,YOGESH,Manan Parmar,Niku...   \n",
       "380  venkatesh kg,Raghuram,YOGESH,Manan Parmar,Niku...   \n",
       "368  venkatesh kg,Raghuram,YOGESH,Manan Parmar,Niku...   \n",
       "364  venkatesh kg,Raghuram,YOGESH,Manan Parmar,Niku...   \n",
       "\n",
       "                                             review_id  \\\n",
       "695  R3CUNCZTU43JPP,RSO46BN8S4OSU,R2UD5D7T4DZRE5,R2...   \n",
       "372  R1PKIMKR1E8X8T,R23UV7ZBIEEZD3,RYRHNVDKS5RFY,RS...   \n",
       "380  R1PKIMKR1E8X8T,R23UV7ZBIEEZD3,RYRHNVDKS5RFY,RS...   \n",
       "368  R1PKIMKR1E8X8T,R23UV7ZBIEEZD3,RYRHNVDKS5RFY,RS...   \n",
       "364  R1PKIMKR1E8X8T,R23UV7ZBIEEZD3,RYRHNVDKS5RFY,RS...   \n",
       "\n",
       "                                          review_title  \\\n",
       "695  Tiny helping hand,Good product,As a whole good...   \n",
       "372  Worth the money,Good smart watch,the screen do...   \n",
       "380  Worth the money,Good smart watch,the screen do...   \n",
       "368  Worth the money,Good smart watch,the screen do...   \n",
       "364  Worth the money,Good smart watch,the screen do...   \n",
       "\n",
       "                                        review_content  weighted_rating  \n",
       "695  This eliminates the need to buy chargers for t...         4.262535  \n",
       "372  I liked it, worth the money, light weight and ...         4.193085  \n",
       "380  I liked it, worth the money, light weight and ...         4.193085  \n",
       "368  I liked it, worth the money, light weight and ...         4.193085  \n",
       "364  I liked it, worth the money, light weight and ...         4.193085  "
      ]
     },
     "execution_count": 77,
     "metadata": {},
     "output_type": "execute_result"
    }
   ],
   "source": [
    "top_10_discounted_products = df.sort_values(by='discount_percentage', ascending=False).head(10)\n",
    "\n",
    "# Display the top 10 most costly products\n",
    "print(\"Top 10 most costly products:\")\n",
    "top_10_discounted_products.head()"
   ]
  },
  {
   "cell_type": "code",
   "execution_count": null,
   "id": "3eb142bf",
   "metadata": {},
   "outputs": [],
   "source": []
  }
 ],
 "metadata": {
  "kernelspec": {
   "display_name": "Python 3 (ipykernel)",
   "language": "python",
   "name": "python3"
  },
  "language_info": {
   "codemirror_mode": {
    "name": "ipython",
    "version": 3
   },
   "file_extension": ".py",
   "mimetype": "text/x-python",
   "name": "python",
   "nbconvert_exporter": "python",
   "pygments_lexer": "ipython3",
   "version": "3.10.9"
  }
 },
 "nbformat": 4,
 "nbformat_minor": 5
}
